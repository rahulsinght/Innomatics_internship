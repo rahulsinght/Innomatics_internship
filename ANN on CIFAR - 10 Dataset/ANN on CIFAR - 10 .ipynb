{
  "nbformat": 4,
  "nbformat_minor": 0,
  "metadata": {
    "colab": {
      "name": "cifar_10_ann.ipynb",
      "provenance": [],
      "collapsed_sections": []
    },
    "kernelspec": {
      "name": "python3",
      "display_name": "Python 3"
    },
    "accelerator": "GPU"
  },
  "cells": [
    {
      "cell_type": "markdown",
      "metadata": {
        "id": "rgTR7_hZgASX"
      },
      "source": [
        "# **ANN on CIFAR-10 Dataset**"
      ]
    },
    {
      "cell_type": "markdown",
      "metadata": {
        "id": "fsbtfIJ8-e4w"
      },
      "source": [
        "## **Importing libraries**"
      ]
    },
    {
      "cell_type": "code",
      "metadata": {
        "id": "Jmq1Rq2AeFXh"
      },
      "source": [
        "import pandas as pd\n",
        "import numpy as np\n",
        "import matplotlib.pyplot as plt\n",
        "import seaborn as sns\n",
        "import tensorflow as tf\n",
        "from tensorflow import keras\n",
        "from tensorflow.keras import models, layers\n",
        "from tensorflow.keras.models import Model\n",
        "from tensorflow.keras.layers import BatchNormalization, Activation, Flatten\n",
        "from tensorflow.keras.optimizers import Adam\n",
        "\n"
      ],
      "execution_count": 7,
      "outputs": []
    },
    {
      "cell_type": "code",
      "metadata": {
        "id": "LRz-ryYDn0JT",
        "colab": {
          "base_uri": "https://localhost:8080/"
        },
        "outputId": "fe4a49e9-677a-4265-9572-02d27bbad04a"
      },
      "source": [
        "print(tf.__version__)\r\n",
        "print(keras.__version__)"
      ],
      "execution_count": 8,
      "outputs": [
        {
          "output_type": "stream",
          "text": [
            "2.4.1\n",
            "2.4.0\n"
          ],
          "name": "stdout"
        }
      ]
    },
    {
      "cell_type": "markdown",
      "metadata": {
        "id": "qVBpfOrlel1B"
      },
      "source": [
        ""
      ]
    },
    {
      "cell_type": "markdown",
      "metadata": {
        "id": "XWmGQPa5cAzh"
      },
      "source": [
        "## **Load the dataset**\r\n"
      ]
    },
    {
      "cell_type": "code",
      "metadata": {
        "id": "DgFARXPoZCgT"
      },
      "source": [
        "from keras.datasets import cifar10"
      ],
      "execution_count": 9,
      "outputs": []
    },
    {
      "cell_type": "markdown",
      "metadata": {
        "id": "YXbwDArzesGr"
      },
      "source": [
        ""
      ]
    },
    {
      "cell_type": "markdown",
      "metadata": {
        "id": "GxAzdk9kHtvj"
      },
      "source": [
        "## **Split the Data into Train and Test**"
      ]
    },
    {
      "cell_type": "code",
      "metadata": {
        "id": "25mf_vN4hwnU"
      },
      "source": [
        "(x_train, y_train),(x_test,y_test) = cifar10.load_data()"
      ],
      "execution_count": 10,
      "outputs": []
    },
    {
      "cell_type": "code",
      "metadata": {
        "colab": {
          "base_uri": "https://localhost:8080/"
        },
        "id": "TJQGyKN0eyWC",
        "outputId": "f34f2a9d-27f1-4b3b-ce84-68c7f5ef0637"
      },
      "source": [
        "print(\"Shape of Training data : \")\r\n",
        "print(x_train.shape)\r\n",
        "print(y_train.shape)\r\n",
        "\r\n",
        "print(\"Shape of Testing data : \")\r\n",
        "print(x_test.shape)\r\n",
        "print(y_test.shape)"
      ],
      "execution_count": 11,
      "outputs": [
        {
          "output_type": "stream",
          "text": [
            "Shape of Training data : \n",
            "(50000, 32, 32, 3)\n",
            "(50000, 1)\n",
            "Shape of Testing data : \n",
            "(10000, 32, 32, 3)\n",
            "(10000, 1)\n"
          ],
          "name": "stdout"
        }
      ]
    },
    {
      "cell_type": "code",
      "metadata": {
        "colab": {
          "base_uri": "https://localhost:8080/"
        },
        "id": "BDY26067e_6v",
        "outputId": "253dd549-1492-4684-9ffc-1f360bd525f8"
      },
      "source": [
        "print(\"Number of training examples :\", x_train.shape[0], \"and each image is of shape (%d, %d)\"%(x_train.shape[1], x_train.shape[2]))\r\n",
        "print(\"Number of test examples :\", x_test.shape[0], \"and each image is of shape (%d, %d)\"%(x_test.shape[1], x_test.shape[2]))"
      ],
      "execution_count": 12,
      "outputs": [
        {
          "output_type": "stream",
          "text": [
            "Number of training examples : 50000 and each image is of shape (32, 32)\n",
            "Number of test examples : 10000 and each image is of shape (32, 32)\n"
          ],
          "name": "stdout"
        }
      ]
    },
    {
      "cell_type": "code",
      "metadata": {
        "colab": {
          "base_uri": "https://localhost:8080/"
        },
        "id": "G1BIT6sXfDOi",
        "outputId": "101e88e3-7f0f-4132-f99b-5c377d13cffa"
      },
      "source": [
        "# An example data point\r\n",
        "print(x_train[0])\r\n",
        "print(x_train.shape)\r\n",
        "\r\n",
        "print(\"*\" * 70)\r\n",
        "\r\n",
        "print(y_train[0])\r\n",
        "print(y_train.shape)\r\n",
        "\r\n",
        "print(\"*\" * 70)\r\n",
        "\r\n",
        "print(x_test[0])\r\n",
        "print(x_test.shape)\r\n",
        "\r\n",
        "\r\n",
        "print(\"*\" * 70)\r\n",
        "\r\n",
        "print(y_test[0])\r\n",
        "print(y_test.shape)\r\n"
      ],
      "execution_count": 13,
      "outputs": [
        {
          "output_type": "stream",
          "text": [
            "[[[ 59  62  63]\n",
            "  [ 43  46  45]\n",
            "  [ 50  48  43]\n",
            "  ...\n",
            "  [158 132 108]\n",
            "  [152 125 102]\n",
            "  [148 124 103]]\n",
            "\n",
            " [[ 16  20  20]\n",
            "  [  0   0   0]\n",
            "  [ 18   8   0]\n",
            "  ...\n",
            "  [123  88  55]\n",
            "  [119  83  50]\n",
            "  [122  87  57]]\n",
            "\n",
            " [[ 25  24  21]\n",
            "  [ 16   7   0]\n",
            "  [ 49  27   8]\n",
            "  ...\n",
            "  [118  84  50]\n",
            "  [120  84  50]\n",
            "  [109  73  42]]\n",
            "\n",
            " ...\n",
            "\n",
            " [[208 170  96]\n",
            "  [201 153  34]\n",
            "  [198 161  26]\n",
            "  ...\n",
            "  [160 133  70]\n",
            "  [ 56  31   7]\n",
            "  [ 53  34  20]]\n",
            "\n",
            " [[180 139  96]\n",
            "  [173 123  42]\n",
            "  [186 144  30]\n",
            "  ...\n",
            "  [184 148  94]\n",
            "  [ 97  62  34]\n",
            "  [ 83  53  34]]\n",
            "\n",
            " [[177 144 116]\n",
            "  [168 129  94]\n",
            "  [179 142  87]\n",
            "  ...\n",
            "  [216 184 140]\n",
            "  [151 118  84]\n",
            "  [123  92  72]]]\n",
            "(50000, 32, 32, 3)\n",
            "**********************************************************************\n",
            "[6]\n",
            "(50000, 1)\n",
            "**********************************************************************\n",
            "[[[158 112  49]\n",
            "  [159 111  47]\n",
            "  [165 116  51]\n",
            "  ...\n",
            "  [137  95  36]\n",
            "  [126  91  36]\n",
            "  [116  85  33]]\n",
            "\n",
            " [[152 112  51]\n",
            "  [151 110  40]\n",
            "  [159 114  45]\n",
            "  ...\n",
            "  [136  95  31]\n",
            "  [125  91  32]\n",
            "  [119  88  34]]\n",
            "\n",
            " [[151 110  47]\n",
            "  [151 109  33]\n",
            "  [158 111  36]\n",
            "  ...\n",
            "  [139  98  34]\n",
            "  [130  95  34]\n",
            "  [120  89  33]]\n",
            "\n",
            " ...\n",
            "\n",
            " [[ 68 124 177]\n",
            "  [ 42 100 148]\n",
            "  [ 31  88 137]\n",
            "  ...\n",
            "  [ 38  97 146]\n",
            "  [ 13  64 108]\n",
            "  [ 40  85 127]]\n",
            "\n",
            " [[ 61 116 168]\n",
            "  [ 49 102 148]\n",
            "  [ 35  85 132]\n",
            "  ...\n",
            "  [ 26  82 130]\n",
            "  [ 29  82 126]\n",
            "  [ 20  64 107]]\n",
            "\n",
            " [[ 54 107 160]\n",
            "  [ 56 105 149]\n",
            "  [ 45  89 132]\n",
            "  ...\n",
            "  [ 24  77 124]\n",
            "  [ 34  84 129]\n",
            "  [ 21  67 110]]]\n",
            "(10000, 32, 32, 3)\n",
            "**********************************************************************\n",
            "[3]\n",
            "(10000, 1)\n"
          ],
          "name": "stdout"
        }
      ]
    },
    {
      "cell_type": "code",
      "metadata": {
        "colab": {
          "base_uri": "https://localhost:8080/",
          "height": 283
        },
        "id": "3IHCcfSZh7SK",
        "outputId": "fdc5a34f-d847-4cb9-9207-dcfba28da6fe"
      },
      "source": [
        "plt.imshow(x_train[1])"
      ],
      "execution_count": 14,
      "outputs": [
        {
          "output_type": "execute_result",
          "data": {
            "text/plain": [
              "<matplotlib.image.AxesImage at 0x7f02d80ff1d0>"
            ]
          },
          "metadata": {
            "tags": []
          },
          "execution_count": 14
        },
        {
          "output_type": "display_data",
          "data": {
            "image/png": "[encoded data removed]",
            "text/plain": [
              "<Figure size 432x288 with 1 Axes>"
            ]
          },
          "metadata": {
            "tags": [],
            "needs_background": "light"
          }
        }
      ]
    },
    {
      "cell_type": "code",
      "metadata": {
        "id": "-VbXPInRtJaa",
        "colab": {
          "base_uri": "https://localhost:8080/",
          "height": 770
        },
        "outputId": "df194399-be47-4106-d65d-3f4c2ea79d8f"
      },
      "source": [
        "plt.figure(figsize=(12, 12))\r\n",
        "np.random.seed(0)\r\n",
        "idx = np.random.randint(0, 50000, 9)\r\n",
        "\r\n",
        "for i in range(len(idx)):\r\n",
        "    plt.subplot(3, 3, i+1)\r\n",
        "    plt.title(y_train[idx[i]])\r\n",
        "    grid_data = np.reshape(x_train[idx[i]], (32,32,3))\r\n",
        "    plt.imshow(grid_data, cmap='gray')"
      ],
      "execution_count": 15,
      "outputs": [
        {
          "output_type": "stream",
          "text": [
            "/usr/local/lib/python3.7/dist-packages/matplotlib/text.py:1165: FutureWarning: elementwise comparison failed; returning scalar instead, but in the future will perform elementwise comparison\n",
            "  if s != self._text:\n"
          ],
          "name": "stderr"
        },
        {
          "output_type": "display_data",
          "data": {
            "image/png": "[encoded data removed]",
            "text/plain": [
              "<Figure size 864x864 with 9 Axes>"
            ]
          },
          "metadata": {
            "tags": [],
            "needs_background": "light"
          }
        }
      ]
    },
    {
      "cell_type": "code",
      "metadata": {
        "id": "-ZBSimbcn9B3"
      },
      "source": [
        "### data preprocessing"
      ],
      "execution_count": 16,
      "outputs": []
    },
    {
      "cell_type": "code",
      "metadata": {
        "id": "RWb4YBzHl5Sa"
      },
      "source": [
        "x_train = x_train/255.0\r\n",
        "x_test = x_test/255.0"
      ],
      "execution_count": 17,
      "outputs": []
    },
    {
      "cell_type": "code",
      "metadata": {
        "id": "fSEPIgK02j2x"
      },
      "source": [
        "import numpy as np"
      ],
      "execution_count": 18,
      "outputs": []
    },
    {
      "cell_type": "code",
      "metadata": {
        "id": "U0zyyPPwsBPz",
        "colab": {
          "base_uri": "https://localhost:8080/",
          "height": 770
        },
        "outputId": "80f812d4-b557-44fb-830a-b90bd55eb5d9"
      },
      "source": [
        "plt.figure(figsize=(12, 12))\r\n",
        "np.random.seed(0)\r\n",
        "idx = np.random.randint(0, 50000, 9)\r\n",
        "\r\n",
        "for i in range(len(idx)):\r\n",
        "    plt.subplot(3, 3, i+1)\r\n",
        "    plt.title(y_train[idx[i]])\r\n",
        "    grid_data = np.reshape(x_train[idx[i]], (32,32,3))\r\n",
        "    plt.imshow(grid_data, cmap='gray')"
      ],
      "execution_count": 19,
      "outputs": [
        {
          "output_type": "stream",
          "text": [
            "/usr/local/lib/python3.7/dist-packages/matplotlib/text.py:1165: FutureWarning: elementwise comparison failed; returning scalar instead, but in the future will perform elementwise comparison\n",
            "  if s != self._text:\n"
          ],
          "name": "stderr"
        },
        {
          "output_type": "display_data",
          "data": {
            "image/png": "[encoded data removed]",
            "text/plain": [
              "<Figure size 864x864 with 9 Axes>"
            ]
          },
          "metadata": {
            "tags": [],
            "needs_background": "light"
          }
        }
      ]
    },
    {
      "cell_type": "code",
      "metadata": {
        "id": "nyrQbeKc-iNQ"
      },
      "source": [
        "import tensorflow as tf\r\n",
        "from tensorflow.keras.utils import to_categorical"
      ],
      "execution_count": 20,
      "outputs": []
    },
    {
      "cell_type": "code",
      "metadata": {
        "id": "FVykdseRnlfP"
      },
      "source": [
        "num_classes = y_train.max()+1 #10\r\n",
        "y_train = to_categorical(y_train, num_classes)\r\n",
        "y_test = to_categorical(y_test, num_classes)"
      ],
      "execution_count": 21,
      "outputs": []
    },
    {
      "cell_type": "code",
      "metadata": {
        "colab": {
          "base_uri": "https://localhost:8080/"
        },
        "id": "B2NMSlyJ-bkG",
        "outputId": "ed333e05-872a-47e9-e32c-28a74b683f0b"
      },
      "source": [
        "y_train.shape,y_test.shape"
      ],
      "execution_count": 22,
      "outputs": [
        {
          "output_type": "execute_result",
          "data": {
            "text/plain": [
              "((50000, 10), (10000, 10))"
            ]
          },
          "metadata": {
            "tags": []
          },
          "execution_count": 22
        }
      ]
    },
    {
      "cell_type": "code",
      "metadata": {
        "colab": {
          "base_uri": "https://localhost:8080/"
        },
        "id": "Lt2jSUGNAGv-",
        "outputId": "c970111d-deb8-4d5f-eaa6-f1f00019c329"
      },
      "source": [
        "x_train.shape,x_test.shape"
      ],
      "execution_count": 23,
      "outputs": [
        {
          "output_type": "execute_result",
          "data": {
            "text/plain": [
              "((50000, 32, 32, 3), (10000, 32, 32, 3))"
            ]
          },
          "metadata": {
            "tags": []
          },
          "execution_count": 23
        }
      ]
    },
    {
      "cell_type": "code",
      "metadata": {
        "id": "09QrBbZ0_Ovh"
      },
      "source": [
        "# reshape for model  # flatterning\r\n",
        "x_train  = x_train.reshape(x_train.shape[0],-1)\r\n",
        "x_test  = x_test.reshape(x_test.shape[0],-1)"
      ],
      "execution_count": 24,
      "outputs": []
    },
    {
      "cell_type": "code",
      "metadata": {
        "colab": {
          "base_uri": "https://localhost:8080/"
        },
        "id": "A-2OViNgAL0Z",
        "outputId": "98696ac0-0d19-40d7-f8bf-6bbaaa188a00"
      },
      "source": [
        "x_train.shape,x_test.shape"
      ],
      "execution_count": 25,
      "outputs": [
        {
          "output_type": "execute_result",
          "data": {
            "text/plain": [
              "((50000, 3072), (10000, 3072))"
            ]
          },
          "metadata": {
            "tags": []
          },
          "execution_count": 25
        }
      ]
    },
    {
      "cell_type": "code",
      "metadata": {
        "id": "q6qIqmqAANth"
      },
      "source": [
        "from tensorflow.keras import Sequential\r\n",
        "from tensorflow.keras.layers import Activation,Dense\r\n",
        "from tensorflow.keras import optimizers"
      ],
      "execution_count": 26,
      "outputs": []
    },
    {
      "cell_type": "code",
      "metadata": {
        "id": "w3QnxXHGBe-f"
      },
      "source": [
        "model = Sequential()\r\n",
        "model.add(Dense(50,input_shape=(3072,),activation='sigmoid'))\r\n",
        "model.add(Dense(50))\r\n",
        "model.add(Activation('sigmoid'))\r\n",
        "model.add(Dense(50))\r\n",
        "model.add(Activation('sigmoid'))\r\n",
        "model.add(Dense(10))\r\n",
        "model.add(Activation('softmax'))"
      ],
      "execution_count": 27,
      "outputs": []
    },
    {
      "cell_type": "code",
      "metadata": {
        "colab": {
          "base_uri": "https://localhost:8080/"
        },
        "id": "lQVopbZgCfme",
        "outputId": "1643abdc-6d3b-42d8-bf39-b08a91589000"
      },
      "source": [
        "(model.summary())"
      ],
      "execution_count": 28,
      "outputs": [
        {
          "output_type": "stream",
          "text": [
            "Model: \"sequential\"\n",
            "_________________________________________________________________\n",
            "Layer (type)                 Output Shape              Param #   \n",
            "=================================================================\n",
            "dense (Dense)                (None, 50)                153650    \n",
            "_________________________________________________________________\n",
            "dense_1 (Dense)              (None, 50)                2550      \n",
            "_________________________________________________________________\n",
            "activation (Activation)      (None, 50)                0         \n",
            "_________________________________________________________________\n",
            "dense_2 (Dense)              (None, 50)                2550      \n",
            "_________________________________________________________________\n",
            "activation_1 (Activation)    (None, 50)                0         \n",
            "_________________________________________________________________\n",
            "dense_3 (Dense)              (None, 10)                510       \n",
            "_________________________________________________________________\n",
            "activation_2 (Activation)    (None, 10)                0         \n",
            "=================================================================\n",
            "Total params: 159,260\n",
            "Trainable params: 159,260\n",
            "Non-trainable params: 0\n",
            "_________________________________________________________________\n"
          ],
          "name": "stdout"
        }
      ]
    },
    {
      "cell_type": "code",
      "metadata": {
        "id": "0qJg3QbnCzKc"
      },
      "source": [
        "sgd = optimizers.SGD(lr=0.01)\r\n",
        "model.compile(optimizer=sgd,loss='categorical_crossentropy',metrics=['accuracy'])"
      ],
      "execution_count": 29,
      "outputs": []
    },
    {
      "cell_type": "code",
      "metadata": {
        "colab": {
          "base_uri": "https://localhost:8080/"
        },
        "id": "UMWFgTeYFT8h",
        "outputId": "c20c911c-9646-478c-feff-c786d6c02d32"
      },
      "source": [
        "model.fit(x_train,y_train,batch_size=256,epochs=100,verbose=1)"
      ],
      "execution_count": 30,
      "outputs": [
        {
          "output_type": "stream",
          "text": [
            "Epoch 1/100\n",
            "196/196 [==============================] - 2s 3ms/step - loss: 2.3723 - accuracy: 0.0983\n",
            "Epoch 2/100\n",
            "196/196 [==============================] - 1s 4ms/step - loss: 2.3022 - accuracy: 0.1062\n",
            "Epoch 3/100\n",
            "196/196 [==============================] - 1s 3ms/step - loss: 2.3015 - accuracy: 0.1156\n",
            "Epoch 4/100\n",
            "196/196 [==============================] - 1s 4ms/step - loss: 2.3008 - accuracy: 0.1095\n",
            "Epoch 5/100\n",
            "196/196 [==============================] - 1s 3ms/step - loss: 2.3003 - accuracy: 0.1271\n",
            "Epoch 6/100\n",
            "196/196 [==============================] - 1s 4ms/step - loss: 2.2995 - accuracy: 0.1311\n",
            "Epoch 7/100\n",
            "196/196 [==============================] - 1s 4ms/step - loss: 2.2989 - accuracy: 0.1425\n",
            "Epoch 8/100\n",
            "196/196 [==============================] - 1s 4ms/step - loss: 2.2982 - accuracy: 0.1351\n",
            "Epoch 9/100\n",
            "196/196 [==============================] - 1s 4ms/step - loss: 2.2976 - accuracy: 0.1517\n",
            "Epoch 10/100\n",
            "196/196 [==============================] - 1s 4ms/step - loss: 2.2968 - accuracy: 0.1420\n",
            "Epoch 11/100\n",
            "196/196 [==============================] - 1s 4ms/step - loss: 2.2961 - accuracy: 0.1638\n",
            "Epoch 12/100\n",
            "196/196 [==============================] - 1s 4ms/step - loss: 2.2950 - accuracy: 0.1689\n",
            "Epoch 13/100\n",
            "196/196 [==============================] - 1s 4ms/step - loss: 2.2939 - accuracy: 0.1719\n",
            "Epoch 14/100\n",
            "196/196 [==============================] - 1s 4ms/step - loss: 2.2930 - accuracy: 0.1635\n",
            "Epoch 15/100\n",
            "196/196 [==============================] - 1s 4ms/step - loss: 2.2918 - accuracy: 0.1705\n",
            "Epoch 16/100\n",
            "196/196 [==============================] - 1s 4ms/step - loss: 2.2903 - accuracy: 0.1834\n",
            "Epoch 17/100\n",
            "196/196 [==============================] - 1s 4ms/step - loss: 2.2891 - accuracy: 0.1693\n",
            "Epoch 18/100\n",
            "196/196 [==============================] - 1s 3ms/step - loss: 2.2873 - accuracy: 0.1826\n",
            "Epoch 19/100\n",
            "196/196 [==============================] - 1s 4ms/step - loss: 2.2855 - accuracy: 0.1801\n",
            "Epoch 20/100\n",
            "196/196 [==============================] - 1s 4ms/step - loss: 2.2835 - accuracy: 0.1690\n",
            "Epoch 21/100\n",
            "196/196 [==============================] - 1s 4ms/step - loss: 2.2814 - accuracy: 0.1856\n",
            "Epoch 22/100\n",
            "196/196 [==============================] - 1s 3ms/step - loss: 2.2787 - accuracy: 0.1749\n",
            "Epoch 23/100\n",
            "196/196 [==============================] - 1s 4ms/step - loss: 2.2759 - accuracy: 0.1851\n",
            "Epoch 24/100\n",
            "196/196 [==============================] - 1s 4ms/step - loss: 2.2729 - accuracy: 0.1781\n",
            "Epoch 25/100\n",
            "196/196 [==============================] - 1s 4ms/step - loss: 2.2689 - accuracy: 0.1730\n",
            "Epoch 26/100\n",
            "196/196 [==============================] - 1s 3ms/step - loss: 2.2657 - accuracy: 0.1845\n",
            "Epoch 27/100\n",
            "196/196 [==============================] - 1s 4ms/step - loss: 2.2604 - accuracy: 0.1804\n",
            "Epoch 28/100\n",
            "196/196 [==============================] - 1s 4ms/step - loss: 2.2554 - accuracy: 0.1766\n",
            "Epoch 29/100\n",
            "196/196 [==============================] - 1s 3ms/step - loss: 2.2505 - accuracy: 0.1786\n",
            "Epoch 30/100\n",
            "196/196 [==============================] - 1s 3ms/step - loss: 2.2445 - accuracy: 0.1718\n",
            "Epoch 31/100\n",
            "196/196 [==============================] - 1s 3ms/step - loss: 2.2372 - accuracy: 0.1744\n",
            "Epoch 32/100\n",
            "196/196 [==============================] - 1s 3ms/step - loss: 2.2302 - accuracy: 0.1793\n",
            "Epoch 33/100\n",
            "196/196 [==============================] - 1s 3ms/step - loss: 2.2207 - accuracy: 0.1932\n",
            "Epoch 34/100\n",
            "196/196 [==============================] - 1s 4ms/step - loss: 2.2130 - accuracy: 0.1838\n",
            "Epoch 35/100\n",
            "196/196 [==============================] - 1s 3ms/step - loss: 2.2048 - accuracy: 0.1726\n",
            "Epoch 36/100\n",
            "196/196 [==============================] - 1s 3ms/step - loss: 2.1938 - accuracy: 0.1810\n",
            "Epoch 37/100\n",
            "196/196 [==============================] - 1s 3ms/step - loss: 2.1862 - accuracy: 0.1903\n",
            "Epoch 38/100\n",
            "196/196 [==============================] - 1s 3ms/step - loss: 2.1752 - accuracy: 0.1817\n",
            "Epoch 39/100\n",
            "196/196 [==============================] - 1s 4ms/step - loss: 2.1668 - accuracy: 0.1857\n",
            "Epoch 40/100\n",
            "196/196 [==============================] - 1s 4ms/step - loss: 2.1565 - accuracy: 0.1933\n",
            "Epoch 41/100\n",
            "196/196 [==============================] - 1s 4ms/step - loss: 2.1489 - accuracy: 0.1945\n",
            "Epoch 42/100\n",
            "196/196 [==============================] - 1s 4ms/step - loss: 2.1402 - accuracy: 0.1946\n",
            "Epoch 43/100\n",
            "196/196 [==============================] - 1s 3ms/step - loss: 2.1308 - accuracy: 0.1963\n",
            "Epoch 44/100\n",
            "196/196 [==============================] - 1s 4ms/step - loss: 2.1268 - accuracy: 0.2021\n",
            "Epoch 45/100\n",
            "196/196 [==============================] - 1s 3ms/step - loss: 2.1184 - accuracy: 0.1898\n",
            "Epoch 46/100\n",
            "196/196 [==============================] - 1s 4ms/step - loss: 2.1100 - accuracy: 0.2048\n",
            "Epoch 47/100\n",
            "196/196 [==============================] - 1s 4ms/step - loss: 2.1070 - accuracy: 0.1998\n",
            "Epoch 48/100\n",
            "196/196 [==============================] - 1s 4ms/step - loss: 2.0982 - accuracy: 0.2099\n",
            "Epoch 49/100\n",
            "196/196 [==============================] - 1s 4ms/step - loss: 2.0997 - accuracy: 0.2065\n",
            "Epoch 50/100\n",
            "196/196 [==============================] - 1s 3ms/step - loss: 2.0924 - accuracy: 0.2208\n",
            "Epoch 51/100\n",
            "196/196 [==============================] - 1s 4ms/step - loss: 2.0869 - accuracy: 0.2301\n",
            "Epoch 52/100\n",
            "196/196 [==============================] - 1s 4ms/step - loss: 2.0829 - accuracy: 0.2289\n",
            "Epoch 53/100\n",
            "196/196 [==============================] - 1s 3ms/step - loss: 2.0795 - accuracy: 0.2205\n",
            "Epoch 54/100\n",
            "196/196 [==============================] - 1s 3ms/step - loss: 2.0755 - accuracy: 0.2237\n",
            "Epoch 55/100\n",
            "196/196 [==============================] - 1s 4ms/step - loss: 2.0742 - accuracy: 0.2204\n",
            "Epoch 56/100\n",
            "196/196 [==============================] - 1s 4ms/step - loss: 2.0676 - accuracy: 0.2276\n",
            "Epoch 57/100\n",
            "196/196 [==============================] - 1s 3ms/step - loss: 2.0663 - accuracy: 0.2170\n",
            "Epoch 58/100\n",
            "196/196 [==============================] - 1s 4ms/step - loss: 2.0636 - accuracy: 0.2214\n",
            "Epoch 59/100\n",
            "196/196 [==============================] - 1s 3ms/step - loss: 2.0607 - accuracy: 0.2321\n",
            "Epoch 60/100\n",
            "196/196 [==============================] - 1s 3ms/step - loss: 2.0557 - accuracy: 0.2283\n",
            "Epoch 61/100\n",
            "196/196 [==============================] - 1s 4ms/step - loss: 2.0548 - accuracy: 0.2272\n",
            "Epoch 62/100\n",
            "196/196 [==============================] - 1s 3ms/step - loss: 2.0508 - accuracy: 0.2279\n",
            "Epoch 63/100\n",
            "196/196 [==============================] - 1s 3ms/step - loss: 2.0497 - accuracy: 0.2314\n",
            "Epoch 64/100\n",
            "196/196 [==============================] - 1s 4ms/step - loss: 2.0500 - accuracy: 0.2313\n",
            "Epoch 65/100\n",
            "196/196 [==============================] - 1s 3ms/step - loss: 2.0431 - accuracy: 0.2300\n",
            "Epoch 66/100\n",
            "196/196 [==============================] - 1s 3ms/step - loss: 2.0471 - accuracy: 0.2282\n",
            "Epoch 67/100\n",
            "196/196 [==============================] - 1s 3ms/step - loss: 2.0412 - accuracy: 0.2312\n",
            "Epoch 68/100\n",
            "196/196 [==============================] - 1s 4ms/step - loss: 2.0441 - accuracy: 0.2331\n",
            "Epoch 69/100\n",
            "196/196 [==============================] - 1s 4ms/step - loss: 2.0426 - accuracy: 0.2335\n",
            "Epoch 70/100\n",
            "196/196 [==============================] - 1s 4ms/step - loss: 2.0416 - accuracy: 0.2373\n",
            "Epoch 71/100\n",
            "196/196 [==============================] - 1s 4ms/step - loss: 2.0402 - accuracy: 0.2382\n",
            "Epoch 72/100\n",
            "196/196 [==============================] - 1s 4ms/step - loss: 2.0392 - accuracy: 0.2351\n",
            "Epoch 73/100\n",
            "196/196 [==============================] - 1s 4ms/step - loss: 2.0368 - accuracy: 0.2425\n",
            "Epoch 74/100\n",
            "196/196 [==============================] - 1s 4ms/step - loss: 2.0312 - accuracy: 0.2385\n",
            "Epoch 75/100\n",
            "196/196 [==============================] - 1s 4ms/step - loss: 2.0292 - accuracy: 0.2417\n",
            "Epoch 76/100\n",
            "196/196 [==============================] - 1s 3ms/step - loss: 2.0322 - accuracy: 0.2408\n",
            "Epoch 77/100\n",
            "196/196 [==============================] - 1s 3ms/step - loss: 2.0286 - accuracy: 0.2474\n",
            "Epoch 78/100\n",
            "196/196 [==============================] - 1s 4ms/step - loss: 2.0235 - accuracy: 0.2455\n",
            "Epoch 79/100\n",
            "196/196 [==============================] - 1s 3ms/step - loss: 2.0214 - accuracy: 0.2499\n",
            "Epoch 80/100\n",
            "196/196 [==============================] - 1s 3ms/step - loss: 2.0223 - accuracy: 0.2462\n",
            "Epoch 81/100\n",
            "196/196 [==============================] - 1s 4ms/step - loss: 2.0183 - accuracy: 0.2519\n",
            "Epoch 82/100\n",
            "196/196 [==============================] - 1s 3ms/step - loss: 2.0187 - accuracy: 0.2480\n",
            "Epoch 83/100\n",
            "196/196 [==============================] - 1s 3ms/step - loss: 2.0151 - accuracy: 0.2548\n",
            "Epoch 84/100\n",
            "196/196 [==============================] - 1s 3ms/step - loss: 2.0160 - accuracy: 0.2535\n",
            "Epoch 85/100\n",
            "196/196 [==============================] - 1s 3ms/step - loss: 2.0102 - accuracy: 0.2556\n",
            "Epoch 86/100\n",
            "196/196 [==============================] - 1s 4ms/step - loss: 2.0085 - accuracy: 0.2532\n",
            "Epoch 87/100\n",
            "196/196 [==============================] - 1s 4ms/step - loss: 2.0024 - accuracy: 0.2620\n",
            "Epoch 88/100\n",
            "196/196 [==============================] - 1s 4ms/step - loss: 2.0046 - accuracy: 0.2592\n",
            "Epoch 89/100\n",
            "196/196 [==============================] - 1s 3ms/step - loss: 2.0022 - accuracy: 0.2601\n",
            "Epoch 90/100\n",
            "196/196 [==============================] - 1s 4ms/step - loss: 2.0011 - accuracy: 0.2596\n",
            "Epoch 91/100\n",
            "196/196 [==============================] - 1s 3ms/step - loss: 2.0016 - accuracy: 0.2602\n",
            "Epoch 92/100\n",
            "196/196 [==============================] - 1s 4ms/step - loss: 1.9972 - accuracy: 0.2631\n",
            "Epoch 93/100\n",
            "196/196 [==============================] - 1s 4ms/step - loss: 1.9916 - accuracy: 0.2654\n",
            "Epoch 94/100\n",
            "196/196 [==============================] - 1s 4ms/step - loss: 1.9884 - accuracy: 0.2636\n",
            "Epoch 95/100\n",
            "196/196 [==============================] - 1s 4ms/step - loss: 1.9818 - accuracy: 0.2654\n",
            "Epoch 96/100\n",
            "196/196 [==============================] - 1s 3ms/step - loss: 1.9837 - accuracy: 0.2674\n",
            "Epoch 97/100\n",
            "196/196 [==============================] - 1s 3ms/step - loss: 1.9753 - accuracy: 0.2726\n",
            "Epoch 98/100\n",
            "196/196 [==============================] - 1s 3ms/step - loss: 1.9811 - accuracy: 0.2692\n",
            "Epoch 99/100\n",
            "196/196 [==============================] - 1s 3ms/step - loss: 1.9703 - accuracy: 0.2722\n",
            "Epoch 100/100\n",
            "196/196 [==============================] - 1s 3ms/step - loss: 1.9740 - accuracy: 0.2735\n"
          ],
          "name": "stdout"
        },
        {
          "output_type": "execute_result",
          "data": {
            "text/plain": [
              "<tensorflow.python.keras.callbacks.History at 0x7f02c0237c10>"
            ]
          },
          "metadata": {
            "tags": []
          },
          "execution_count": 30
        }
      ]
    },
    {
      "cell_type": "code",
      "metadata": {
        "colab": {
          "base_uri": "https://localhost:8080/"
        },
        "id": "XeHGJ8ahFlyd",
        "outputId": "a36bab0e-fe19-4f35-ffe1-1f0bb2c42b22"
      },
      "source": [
        "results = model.evaluate(x_test,y_test)"
      ],
      "execution_count": 31,
      "outputs": [
        {
          "output_type": "stream",
          "text": [
            "313/313 [==============================] - 1s 2ms/step - loss: 1.9694 - accuracy: 0.2699\n"
          ],
          "name": "stdout"
        }
      ]
    },
    {
      "cell_type": "markdown",
      "metadata": {
        "id": "gbAyrcJVHoVP"
      },
      "source": [
        "## optimiser ADAM"
      ]
    },
    {
      "cell_type": "code",
      "metadata": {
        "id": "C4e-yZ-EHfIR"
      },
      "source": [
        "adam = optimizers.Adam(lr=0.01)\r\n",
        "model.compile(optimizer=adam,loss='categorical_crossentropy',metrics=['accuracy'])"
      ],
      "execution_count": 32,
      "outputs": []
    },
    {
      "cell_type": "code",
      "metadata": {
        "colab": {
          "base_uri": "https://localhost:8080/"
        },
        "id": "eCe_FycIH4Cg",
        "outputId": "12fce057-dc28-49ec-cb89-e879b27abff2"
      },
      "source": [
        "model.fit(x_train,y_train,batch_size=256,epochs=100,verbose=0)"
      ],
      "execution_count": 33,
      "outputs": [
        {
          "output_type": "execute_result",
          "data": {
            "text/plain": [
              "<tensorflow.python.keras.callbacks.History at 0x7f02d7b7e090>"
            ]
          },
          "metadata": {
            "tags": []
          },
          "execution_count": 33
        }
      ]
    },
    {
      "cell_type": "code",
      "metadata": {
        "colab": {
          "base_uri": "https://localhost:8080/"
        },
        "id": "4DjYWTi0IM_3",
        "outputId": "7e4a5769-7ddd-44bd-d8db-4f56bc3ce4fd"
      },
      "source": [
        "results = model.evaluate(x_test,y_test)"
      ],
      "execution_count": 34,
      "outputs": [
        {
          "output_type": "stream",
          "text": [
            "313/313 [==============================] - 1s 2ms/step - loss: 2.0987 - accuracy: 0.1773\n"
          ],
          "name": "stdout"
        }
      ]
    },
    {
      "cell_type": "code",
      "metadata": {
        "colab": {
          "base_uri": "https://localhost:8080/"
        },
        "id": "Fq2PRltrPvxl",
        "outputId": "a885e50e-c255-4146-c19c-d1e9bdc8a88e"
      },
      "source": [
        "results"
      ],
      "execution_count": 35,
      "outputs": [
        {
          "output_type": "execute_result",
          "data": {
            "text/plain": [
              "[2.0987050533294678, 0.17730000615119934]"
            ]
          },
          "metadata": {
            "tags": []
          },
          "execution_count": 35
        }
      ]
    },
    {
      "cell_type": "code",
      "metadata": {
        "colab": {
          "base_uri": "https://localhost:8080/"
        },
        "id": "seZG7BzlMpW6",
        "outputId": "2d1bb2b8-380a-4fd0-ef46-ad94017a6727"
      },
      "source": [
        "y_pred = model.predict_classes(x_test)"
      ],
      "execution_count": 36,
      "outputs": [
        {
          "output_type": "stream",
          "text": [
            "/usr/local/lib/python3.7/dist-packages/tensorflow/python/keras/engine/sequential.py:450: UserWarning: `model.predict_classes()` is deprecated and will be removed after 2021-01-01. Please use instead:* `np.argmax(model.predict(x), axis=-1)`,   if your model does multi-class classification   (e.g. if it uses a `softmax` last-layer activation).* `(model.predict(x) > 0.5).astype(\"int32\")`,   if your model does binary classification   (e.g. if it uses a `sigmoid` last-layer activation).\n",
            "  warnings.warn('`model.predict_classes()` is deprecated and '\n"
          ],
          "name": "stderr"
        }
      ]
    },
    {
      "cell_type": "code",
      "metadata": {
        "colab": {
          "base_uri": "https://localhost:8080/"
        },
        "id": "X63rsIrYM9JF",
        "outputId": "9006e7cb-697c-49c2-8a86-9696a4047ecd"
      },
      "source": [
        "y_pred"
      ],
      "execution_count": 37,
      "outputs": [
        {
          "output_type": "execute_result",
          "data": {
            "text/plain": [
              "array([6, 8, 8, ..., 6, 6, 6])"
            ]
          },
          "metadata": {
            "tags": []
          },
          "execution_count": 37
        }
      ]
    },
    {
      "cell_type": "markdown",
      "metadata": {
        "id": "GrCiRKbqPHN8"
      },
      "source": [
        "## changing the learning rates"
      ]
    },
    {
      "cell_type": "code",
      "metadata": {
        "colab": {
          "base_uri": "https://localhost:8080/"
        },
        "id": "x7p8k6EKOhMp",
        "outputId": "febfabdf-f112-4d90-c79e-c50070081357"
      },
      "source": [
        " # for adam optimiser\r\n",
        " l_rate = [0.001,0.01,0.1,1,10]\r\n",
        " for lr in range(len(l_rate)):\r\n",
        "   adam = optimizers.Adam(lr=l_rate[lr])\r\n",
        "   model.compile(optimizer=adam,loss='categorical_crossentropy',metrics=['accuracy'])\r\n",
        "   model.fit(x_train,y_train,batch_size=256,epochs=100,verbose=0)\r\n",
        "   results = model.evaluate(x_test,y_test)\r\n",
        "   print(f\"with learning rate {l_rate[lr]} \\nloss : {results[0]}\\nAccuracy : {results[1]}\")"
      ],
      "execution_count": 38,
      "outputs": [
        {
          "output_type": "stream",
          "text": [
            "313/313 [==============================] - 1s 2ms/step - loss: 1.7244 - accuracy: 0.3745\n",
            "with learning rate 0.001 \n",
            "loss : 1.7243820428848267\n",
            "Accuracy : 0.37450000643730164\n",
            "313/313 [==============================] - 1s 2ms/step - loss: 1.8826 - accuracy: 0.3383\n",
            "with learning rate 0.01 \n",
            "loss : 1.8825628757476807\n",
            "Accuracy : 0.3382999897003174\n",
            "313/313 [==============================] - 1s 2ms/step - loss: 2.3146 - accuracy: 0.1000\n",
            "with learning rate 0.1 \n",
            "loss : 2.3145864009857178\n",
            "Accuracy : 0.10000000149011612\n",
            "313/313 [==============================] - 1s 2ms/step - loss: 2.3615 - accuracy: 0.1000\n",
            "with learning rate 1 \n",
            "loss : 2.361529588699341\n",
            "Accuracy : 0.10000000149011612\n",
            "313/313 [==============================] - 1s 2ms/step - loss: 17.2834 - accuracy: 0.1000\n",
            "with learning rate 10 \n",
            "loss : 17.283437728881836\n",
            "Accuracy : 0.10000000149011612\n"
          ],
          "name": "stdout"
        }
      ]
    },
    {
      "cell_type": "code",
      "metadata": {
        "colab": {
          "base_uri": "https://localhost:8080/"
        },
        "id": "KMExgspYQld_",
        "outputId": "cc8284e0-4924-45d5-f5c5-8e2645021020"
      },
      "source": [
        " # for SGD optimiser\r\n",
        " l_rate = [0.001,0.01,0.1,1,10]\r\n",
        " for lr in range(len(l_rate)):\r\n",
        "   sgd = optimizers.SGD(lr=l_rate[lr])\r\n",
        "   model.compile(optimizer=sgd,loss='categorical_crossentropy',metrics=['accuracy'])\r\n",
        "   model.fit(x_train,y_train,batch_size=256,epochs=100,verbose=0)\r\n",
        "   results = model.evaluate(x_test,y_test)\r\n",
        "   print(f\"with learning rate {l_rate[lr]}\\nloss : {results[0]}\\nAccuracy : {results[1]}\")"
      ],
      "execution_count": 39,
      "outputs": [
        {
          "output_type": "stream",
          "text": [
            "313/313 [==============================] - 1s 2ms/step - loss: 2.8719 - accuracy: 0.1000\n",
            "with learning rate 0.001\n",
            "loss : 2.871868371963501\n",
            "Accuracy : 0.10000000149011612\n",
            "313/313 [==============================] - 1s 2ms/step - loss: 2.3026 - accuracy: 0.1000\n",
            "with learning rate 0.01\n",
            "loss : 2.302586555480957\n",
            "Accuracy : 0.10000000149011612\n",
            "313/313 [==============================] - 1s 2ms/step - loss: 2.3030 - accuracy: 0.1000\n",
            "with learning rate 0.1\n",
            "loss : 2.3030245304107666\n",
            "Accuracy : 0.10000000149011612\n",
            "313/313 [==============================] - 1s 2ms/step - loss: 2.3089 - accuracy: 0.1000\n",
            "with learning rate 1\n",
            "loss : 2.308938980102539\n",
            "Accuracy : 0.10000000149011612\n",
            "313/313 [==============================] - 1s 2ms/step - loss: 9.0799 - accuracy: 0.1000\n",
            "with learning rate 10\n",
            "loss : 9.079913139343262\n",
            "Accuracy : 0.10000000149011612\n"
          ],
          "name": "stdout"
        }
      ]
    },
    {
      "cell_type": "markdown",
      "metadata": {
        "id": "wmogX-1wex9W"
      },
      "source": [
        "## Build a simple network with 2 dense layers"
      ]
    },
    {
      "cell_type": "code",
      "metadata": {
        "id": "oCZuqBlCSrA3"
      },
      "source": [
        "model = None\r\n",
        "model =  Sequential()\r\n",
        "model.add(Dense(2,activation='relu',input_shape=(3072,)))\r\n",
        "model.add(Dense(10,activation='softmax'))"
      ],
      "execution_count": 40,
      "outputs": []
    },
    {
      "cell_type": "code",
      "metadata": {
        "id": "ODp2yUjXhTEK",
        "colab": {
          "base_uri": "https://localhost:8080/"
        },
        "outputId": "65530843-82fc-477b-d619-9d266b3b02a2"
      },
      "source": [
        "model.summary()"
      ],
      "execution_count": 41,
      "outputs": [
        {
          "output_type": "stream",
          "text": [
            "Model: \"sequential_1\"\n",
            "_________________________________________________________________\n",
            "Layer (type)                 Output Shape              Param #   \n",
            "=================================================================\n",
            "dense_4 (Dense)              (None, 2)                 6146      \n",
            "_________________________________________________________________\n",
            "dense_5 (Dense)              (None, 10)                30        \n",
            "=================================================================\n",
            "Total params: 6,176\n",
            "Trainable params: 6,176\n",
            "Non-trainable params: 0\n",
            "_________________________________________________________________\n"
          ],
          "name": "stdout"
        }
      ]
    },
    {
      "cell_type": "code",
      "metadata": {
        "id": "S1UQA7MmhS1T"
      },
      "source": [
        "model.compile(optimizer='adam', \r\n",
        "              loss='categorical_crossentropy', \r\n",
        "              metrics=['accuracy'])"
      ],
      "execution_count": 42,
      "outputs": []
    },
    {
      "cell_type": "code",
      "metadata": {
        "id": "FInrWtyvhzgi",
        "colab": {
          "base_uri": "https://localhost:8080/"
        },
        "outputId": "db80e64e-9d0f-417b-c4d5-82160ad14bd5"
      },
      "source": [
        "model.fit(x_train, y_train, batch_size=128, epochs=10)"
      ],
      "execution_count": 43,
      "outputs": [
        {
          "output_type": "stream",
          "text": [
            "Epoch 1/10\n",
            "391/391 [==============================] - 1s 3ms/step - loss: 2.3031 - accuracy: 0.0975\n",
            "Epoch 2/10\n",
            "391/391 [==============================] - 1s 3ms/step - loss: 2.3026 - accuracy: 0.0979\n",
            "Epoch 3/10\n",
            "391/391 [==============================] - 1s 3ms/step - loss: 2.3027 - accuracy: 0.1004\n",
            "Epoch 4/10\n",
            "391/391 [==============================] - 1s 3ms/step - loss: 2.3027 - accuracy: 0.1002\n",
            "Epoch 5/10\n",
            "391/391 [==============================] - 1s 3ms/step - loss: 2.3027 - accuracy: 0.0983\n",
            "Epoch 6/10\n",
            "391/391 [==============================] - 1s 3ms/step - loss: 2.3027 - accuracy: 0.0969\n",
            "Epoch 7/10\n",
            "391/391 [==============================] - 1s 3ms/step - loss: 2.3026 - accuracy: 0.0989\n",
            "Epoch 8/10\n",
            "391/391 [==============================] - 1s 2ms/step - loss: 2.3027 - accuracy: 0.1001\n",
            "Epoch 9/10\n",
            "391/391 [==============================] - 1s 3ms/step - loss: 2.3027 - accuracy: 0.0985\n",
            "Epoch 10/10\n",
            "391/391 [==============================] - 1s 2ms/step - loss: 2.3027 - accuracy: 0.0984\n"
          ],
          "name": "stdout"
        },
        {
          "output_type": "execute_result",
          "data": {
            "text/plain": [
              "<tensorflow.python.keras.callbacks.History at 0x7f0278339450>"
            ]
          },
          "metadata": {
            "tags": []
          },
          "execution_count": 43
        }
      ]
    },
    {
      "cell_type": "code",
      "metadata": {
        "id": "EFCOWi1dh_X1",
        "colab": {
          "base_uri": "https://localhost:8080/"
        },
        "outputId": "8a0119a1-0fb5-499a-a632-be9e800eae9c"
      },
      "source": [
        "results = model.evaluate(x_test,y_test)"
      ],
      "execution_count": 44,
      "outputs": [
        {
          "output_type": "stream",
          "text": [
            "313/313 [==============================] - 1s 2ms/step - loss: 2.3026 - accuracy: 0.1000\n"
          ],
          "name": "stdout"
        }
      ]
    },
    {
      "cell_type": "code",
      "metadata": {
        "id": "jqSeVzcLjGDU",
        "colab": {
          "base_uri": "https://localhost:8080/"
        },
        "outputId": "a431ee50-aa32-4cd1-ecfb-0f63090e2c62"
      },
      "source": [
        "print(f\"loss : {results[0]}\\nAccuracy : {results[1]}\")"
      ],
      "execution_count": 45,
      "outputs": [
        {
          "output_type": "stream",
          "text": [
            "loss : 2.302603006362915\n",
            "Accuracy : 0.10000000149011612\n"
          ],
          "name": "stdout"
        }
      ]
    },
    {
      "cell_type": "markdown",
      "metadata": {
        "id": "RRgqp1GhwtAk"
      },
      "source": [
        "###  Increase the dense layer by 2 with changing activations functions (‘selu’, ’softplus’, ’elu’, ’relu’)\r\n"
      ]
    },
    {
      "cell_type": "code",
      "metadata": {
        "id": "nMeQat4fs15r"
      },
      "source": [
        "model = None\r\n",
        "model = Sequential()\r\n",
        "model.add(Dense(2,input_shape=(3072,),activation='selu'))\r\n",
        "model.add(Dense(4,activation='softplus'))\r\n",
        "model.add(Dense(6,activation='elu'))\r\n",
        "model.add(Dense(8,activation='relu'))\r\n",
        "model.add(Dense(10,activation='softmax'))"
      ],
      "execution_count": 46,
      "outputs": []
    },
    {
      "cell_type": "code",
      "metadata": {
        "colab": {
          "base_uri": "https://localhost:8080/"
        },
        "id": "oj2gwrdjxpzb",
        "outputId": "6702ef57-588f-4538-9e4d-e6c4221534df"
      },
      "source": [
        "model.summary()"
      ],
      "execution_count": 47,
      "outputs": [
        {
          "output_type": "stream",
          "text": [
            "Model: \"sequential_2\"\n",
            "_________________________________________________________________\n",
            "Layer (type)                 Output Shape              Param #   \n",
            "=================================================================\n",
            "dense_6 (Dense)              (None, 2)                 6146      \n",
            "_________________________________________________________________\n",
            "dense_7 (Dense)              (None, 4)                 12        \n",
            "_________________________________________________________________\n",
            "dense_8 (Dense)              (None, 6)                 30        \n",
            "_________________________________________________________________\n",
            "dense_9 (Dense)              (None, 8)                 56        \n",
            "_________________________________________________________________\n",
            "dense_10 (Dense)             (None, 10)                90        \n",
            "=================================================================\n",
            "Total params: 6,334\n",
            "Trainable params: 6,334\n",
            "Non-trainable params: 0\n",
            "_________________________________________________________________\n"
          ],
          "name": "stdout"
        }
      ]
    },
    {
      "cell_type": "code",
      "metadata": {
        "id": "YKtp1XZcyfL2"
      },
      "source": [
        "model.compile(optimizer='adam', \r\n",
        "              loss='categorical_crossentropy', \r\n",
        "              metrics=['accuracy'])"
      ],
      "execution_count": 48,
      "outputs": []
    },
    {
      "cell_type": "code",
      "metadata": {
        "colab": {
          "base_uri": "https://localhost:8080/"
        },
        "id": "KZy58hFox6P6",
        "outputId": "a9e1fa70-4584-469f-de9f-40a8a974a7b5"
      },
      "source": [
        "model.fit(x_train,y_train,batch_size=128,epochs=10,verbose=0)"
      ],
      "execution_count": 49,
      "outputs": [
        {
          "output_type": "execute_result",
          "data": {
            "text/plain": [
              "<tensorflow.python.keras.callbacks.History at 0x7f02781d7c10>"
            ]
          },
          "metadata": {
            "tags": []
          },
          "execution_count": 49
        }
      ]
    },
    {
      "cell_type": "code",
      "metadata": {
        "colab": {
          "base_uri": "https://localhost:8080/"
        },
        "id": "149PmACcyZrT",
        "outputId": "3d621980-7cb6-4ea8-f4d0-759452bd98af"
      },
      "source": [
        "results = model.evaluate(x_test,y_test)"
      ],
      "execution_count": 50,
      "outputs": [
        {
          "output_type": "stream",
          "text": [
            "313/313 [==============================] - 1s 2ms/step - loss: 2.0032 - accuracy: 0.2049\n"
          ],
          "name": "stdout"
        }
      ]
    },
    {
      "cell_type": "code",
      "metadata": {
        "colab": {
          "base_uri": "https://localhost:8080/"
        },
        "id": "vA2rTbeIzP3i",
        "outputId": "17ba002f-daee-4ff4-d4fb-28041e151872"
      },
      "source": [
        "print(f\"loss : {results[0]}\\nAccuracy : {results[1]}\")"
      ],
      "execution_count": 51,
      "outputs": [
        {
          "output_type": "stream",
          "text": [
            "loss : 2.0032477378845215\n",
            "Accuracy : 0.20489999651908875\n"
          ],
          "name": "stdout"
        }
      ]
    },
    {
      "cell_type": "markdown",
      "metadata": {
        "id": "sWhRz4dy34oa"
      },
      "source": [
        "### Stochastic Gradient Descent"
      ]
    },
    {
      "cell_type": "code",
      "metadata": {
        "id": "j0QC2YAMzW8_"
      },
      "source": [
        "#1\n",
        "sgd = optimizers.SGD()"
      ],
      "execution_count": 52,
      "outputs": []
    },
    {
      "cell_type": "code",
      "metadata": {
        "id": "lhhlcJaQz98N"
      },
      "source": [
        "model = None\r\n",
        "model = Sequential()\r\n",
        "model.add(Dense(2,input_shape=(3072,),activation='selu'))\r\n",
        "model.add(Dense(4,activation='softplus'))\r\n",
        "model.add(Dense(6,activation='elu'))\r\n",
        "model.add(Dense(8,activation='relu'))\r\n",
        "model.add(Dense(10,activation='softmax'))"
      ],
      "execution_count": 53,
      "outputs": []
    },
    {
      "cell_type": "code",
      "metadata": {
        "colab": {
          "base_uri": "https://localhost:8080/"
        },
        "id": "ibwjNleZ3Uee",
        "outputId": "18bb74d5-e009-4819-cae6-0f83b10e2d03"
      },
      "source": [
        "model.summary()"
      ],
      "execution_count": 54,
      "outputs": [
        {
          "output_type": "stream",
          "text": [
            "Model: \"sequential_3\"\n",
            "_________________________________________________________________\n",
            "Layer (type)                 Output Shape              Param #   \n",
            "=================================================================\n",
            "dense_11 (Dense)             (None, 2)                 6146      \n",
            "_________________________________________________________________\n",
            "dense_12 (Dense)             (None, 4)                 12        \n",
            "_________________________________________________________________\n",
            "dense_13 (Dense)             (None, 6)                 30        \n",
            "_________________________________________________________________\n",
            "dense_14 (Dense)             (None, 8)                 56        \n",
            "_________________________________________________________________\n",
            "dense_15 (Dense)             (None, 10)                90        \n",
            "=================================================================\n",
            "Total params: 6,334\n",
            "Trainable params: 6,334\n",
            "Non-trainable params: 0\n",
            "_________________________________________________________________\n"
          ],
          "name": "stdout"
        }
      ]
    },
    {
      "cell_type": "code",
      "metadata": {
        "id": "wq2dP7Gn2TXD"
      },
      "source": [
        "model.compile(optimizer=sgd,loss='categorical_crossentropy',metrics=['accuracy'])"
      ],
      "execution_count": 55,
      "outputs": []
    },
    {
      "cell_type": "code",
      "metadata": {
        "colab": {
          "base_uri": "https://localhost:8080/"
        },
        "id": "nwXiFSL22pjT",
        "outputId": "bf4ad0e4-bc2e-4624-a4b4-e35e03ff676a"
      },
      "source": [
        "model.fit(x_train,y_train,batch_size=128,epochs=10,verbose=1)"
      ],
      "execution_count": 56,
      "outputs": [
        {
          "output_type": "stream",
          "text": [
            "Epoch 1/10\n",
            "391/391 [==============================] - 1s 3ms/step - loss: 2.3041 - accuracy: 0.1089\n",
            "Epoch 2/10\n",
            "391/391 [==============================] - 1s 3ms/step - loss: 2.2836 - accuracy: 0.1484\n",
            "Epoch 3/10\n",
            "391/391 [==============================] - 1s 3ms/step - loss: 2.2692 - accuracy: 0.1656\n",
            "Epoch 4/10\n",
            "391/391 [==============================] - 1s 3ms/step - loss: 2.2502 - accuracy: 0.1704\n",
            "Epoch 5/10\n",
            "391/391 [==============================] - 1s 3ms/step - loss: 2.2229 - accuracy: 0.1813\n",
            "Epoch 6/10\n",
            "391/391 [==============================] - 1s 3ms/step - loss: 2.1787 - accuracy: 0.2075\n",
            "Epoch 7/10\n",
            "391/391 [==============================] - 1s 3ms/step - loss: 2.1180 - accuracy: 0.2293\n",
            "Epoch 8/10\n",
            "391/391 [==============================] - 1s 3ms/step - loss: 2.0587 - accuracy: 0.2330\n",
            "Epoch 9/10\n",
            "391/391 [==============================] - 1s 3ms/step - loss: 2.0231 - accuracy: 0.2382\n",
            "Epoch 10/10\n",
            "391/391 [==============================] - 1s 3ms/step - loss: 1.9920 - accuracy: 0.2378\n"
          ],
          "name": "stdout"
        },
        {
          "output_type": "execute_result",
          "data": {
            "text/plain": [
              "<tensorflow.python.keras.callbacks.History at 0x7f02747ed490>"
            ]
          },
          "metadata": {
            "tags": []
          },
          "execution_count": 56
        }
      ]
    },
    {
      "cell_type": "code",
      "metadata": {
        "colab": {
          "base_uri": "https://localhost:8080/"
        },
        "id": "xuisILAq2ujQ",
        "outputId": "bbda236c-92c0-4539-c9d6-a501562e8b18"
      },
      "source": [
        "results = model.evaluate(x_test,y_test)"
      ],
      "execution_count": 57,
      "outputs": [
        {
          "output_type": "stream",
          "text": [
            "313/313 [==============================] - 1s 2ms/step - loss: 2.0143 - accuracy: 0.2251\n"
          ],
          "name": "stdout"
        }
      ]
    },
    {
      "cell_type": "code",
      "metadata": {
        "colab": {
          "base_uri": "https://localhost:8080/"
        },
        "id": "CBJPDSJd3rR8",
        "outputId": "ed0a4353-01ae-4048-d99f-57dd79e9aab3"
      },
      "source": [
        "print(f\"loss : {results[0]}\\nAccuracy : {results[1]}\")"
      ],
      "execution_count": 58,
      "outputs": [
        {
          "output_type": "stream",
          "text": [
            "loss : 2.0143067836761475\n",
            "Accuracy : 0.22509999573230743\n"
          ],
          "name": "stdout"
        }
      ]
    },
    {
      "cell_type": "code",
      "metadata": {
        "id": "tElXD1YL3xl4"
      },
      "source": [
        "#2 Nesterov Accelerated Gradient\r\n",
        "model = None\r\n",
        "model = Sequential()\r\n",
        "model.add(Dense(2,input_shape=(3072,),activation='selu'))\r\n",
        "model.add(Dense(4,activation='softplus'))\r\n",
        "model.add(Dense(6,activation='elu'))\r\n",
        "model.add(Dense(8,activation='relu'))\r\n",
        "model.add(Dense(10,activation='softmax'))"
      ],
      "execution_count": 59,
      "outputs": []
    },
    {
      "cell_type": "code",
      "metadata": {
        "colab": {
          "base_uri": "https://localhost:8080/"
        },
        "id": "LgzhSuDwHM0y",
        "outputId": "97e0f3ff-dfba-41e7-ad65-4305dbce8831"
      },
      "source": [
        "model.summary()"
      ],
      "execution_count": 60,
      "outputs": [
        {
          "output_type": "stream",
          "text": [
            "Model: \"sequential_4\"\n",
            "_________________________________________________________________\n",
            "Layer (type)                 Output Shape              Param #   \n",
            "=================================================================\n",
            "dense_16 (Dense)             (None, 2)                 6146      \n",
            "_________________________________________________________________\n",
            "dense_17 (Dense)             (None, 4)                 12        \n",
            "_________________________________________________________________\n",
            "dense_18 (Dense)             (None, 6)                 30        \n",
            "_________________________________________________________________\n",
            "dense_19 (Dense)             (None, 8)                 56        \n",
            "_________________________________________________________________\n",
            "dense_20 (Dense)             (None, 10)                90        \n",
            "=================================================================\n",
            "Total params: 6,334\n",
            "Trainable params: 6,334\n",
            "Non-trainable params: 0\n",
            "_________________________________________________________________\n"
          ],
          "name": "stdout"
        }
      ]
    },
    {
      "cell_type": "code",
      "metadata": {
        "id": "s__g83PBUmCR"
      },
      "source": [
        "nadam = optimizers.Nadam()"
      ],
      "execution_count": 61,
      "outputs": []
    },
    {
      "cell_type": "code",
      "metadata": {
        "id": "kJ6kFvU_EIU_"
      },
      "source": [
        "model.compile(optimizer=nadam,loss='categorical_crossentropy',metrics=['accuracy'])"
      ],
      "execution_count": 62,
      "outputs": []
    },
    {
      "cell_type": "code",
      "metadata": {
        "colab": {
          "base_uri": "https://localhost:8080/"
        },
        "id": "VOCWY82SVHo2",
        "outputId": "5816cc59-0916-45c8-f425-65b77b15b15f"
      },
      "source": [
        "model.fit(x_train,y_train,epochs=10,verbose=0,batch_size=128)"
      ],
      "execution_count": 63,
      "outputs": [
        {
          "output_type": "execute_result",
          "data": {
            "text/plain": [
              "<tensorflow.python.keras.callbacks.History at 0x7f027846d710>"
            ]
          },
          "metadata": {
            "tags": []
          },
          "execution_count": 63
        }
      ]
    },
    {
      "cell_type": "code",
      "metadata": {
        "colab": {
          "base_uri": "https://localhost:8080/"
        },
        "id": "mTBkAWVyVzSF",
        "outputId": "f2805f3a-2e60-463d-e24f-87b60b688a2e"
      },
      "source": [
        "results = model.evaluate(x_test,y_test,)"
      ],
      "execution_count": 64,
      "outputs": [
        {
          "output_type": "stream",
          "text": [
            "313/313 [==============================] - 1s 2ms/step - loss: 2.0248 - accuracy: 0.1969\n"
          ],
          "name": "stdout"
        }
      ]
    },
    {
      "cell_type": "code",
      "metadata": {
        "colab": {
          "base_uri": "https://localhost:8080/"
        },
        "id": "K1yT4zA3V8v6",
        "outputId": "1bf6bb9e-7b30-43c1-91b2-ece0a74608be"
      },
      "source": [
        "print(f\"loss : {results[0]}\\nAccuracy : {results[1]}\")"
      ],
      "execution_count": 65,
      "outputs": [
        {
          "output_type": "stream",
          "text": [
            "loss : 2.024790048599243\n",
            "Accuracy : 0.19689999520778656\n"
          ],
          "name": "stdout"
        }
      ]
    },
    {
      "cell_type": "code",
      "metadata": {
        "id": "fKwSLb4uYOPB"
      },
      "source": [
        "#3 Adam\r\n",
        "model = None\r\n",
        "model = Sequential()\r\n",
        "model.add(Dense(128,input_shape=(3072,),activation='selu'))\r\n",
        "model.add(Dense(64,activation='softplus'))\r\n",
        "model.add(Dense(32,activation='elu'))\r\n",
        "model.add(Dense(16,activation='relu'))\r\n",
        "model.add(Dense(10,activation='softmax'))"
      ],
      "execution_count": 66,
      "outputs": []
    },
    {
      "cell_type": "code",
      "metadata": {
        "colab": {
          "base_uri": "https://localhost:8080/"
        },
        "id": "Ae3tgrwUZMya",
        "outputId": "f8c0fd56-d635-4ff7-b495-123fa454b149"
      },
      "source": [
        "model.summary()"
      ],
      "execution_count": 67,
      "outputs": [
        {
          "output_type": "stream",
          "text": [
            "Model: \"sequential_5\"\n",
            "_________________________________________________________________\n",
            "Layer (type)                 Output Shape              Param #   \n",
            "=================================================================\n",
            "dense_21 (Dense)             (None, 128)               393344    \n",
            "_________________________________________________________________\n",
            "dense_22 (Dense)             (None, 64)                8256      \n",
            "_________________________________________________________________\n",
            "dense_23 (Dense)             (None, 32)                2080      \n",
            "_________________________________________________________________\n",
            "dense_24 (Dense)             (None, 16)                528       \n",
            "_________________________________________________________________\n",
            "dense_25 (Dense)             (None, 10)                170       \n",
            "=================================================================\n",
            "Total params: 404,378\n",
            "Trainable params: 404,378\n",
            "Non-trainable params: 0\n",
            "_________________________________________________________________\n"
          ],
          "name": "stdout"
        }
      ]
    },
    {
      "cell_type": "code",
      "metadata": {
        "id": "tNZKyS0bZHuH"
      },
      "source": [
        "model.compile(optimizer='Adam',loss='categorical_crossentropy',metrics='accuracy')"
      ],
      "execution_count": 68,
      "outputs": []
    },
    {
      "cell_type": "code",
      "metadata": {
        "colab": {
          "base_uri": "https://localhost:8080/"
        },
        "id": "h5yK8M-ZZVFY",
        "outputId": "2f7aa6a2-4182-4624-bb91-65d26bf64fe7"
      },
      "source": [
        "model.fit(x_train,y_train,batch_size=128,epochs=20)"
      ],
      "execution_count": 69,
      "outputs": [
        {
          "output_type": "stream",
          "text": [
            "Epoch 1/20\n",
            "391/391 [==============================] - 2s 3ms/step - loss: 2.1922 - accuracy: 0.1701\n",
            "Epoch 2/20\n",
            "391/391 [==============================] - 1s 3ms/step - loss: 1.8930 - accuracy: 0.3025\n",
            "Epoch 3/20\n",
            "391/391 [==============================] - 1s 3ms/step - loss: 1.7625 - accuracy: 0.3619\n",
            "Epoch 4/20\n",
            "391/391 [==============================] - 1s 3ms/step - loss: 1.6608 - accuracy: 0.4036\n",
            "Epoch 5/20\n",
            "391/391 [==============================] - 1s 3ms/step - loss: 1.5911 - accuracy: 0.4250\n",
            "Epoch 6/20\n",
            "391/391 [==============================] - 1s 3ms/step - loss: 1.5347 - accuracy: 0.4482\n",
            "Epoch 7/20\n",
            "391/391 [==============================] - 1s 3ms/step - loss: 1.5013 - accuracy: 0.4596\n",
            "Epoch 8/20\n",
            "391/391 [==============================] - 1s 3ms/step - loss: 1.4621 - accuracy: 0.4761\n",
            "Epoch 9/20\n",
            "391/391 [==============================] - 1s 3ms/step - loss: 1.4484 - accuracy: 0.4794\n",
            "Epoch 10/20\n",
            "391/391 [==============================] - 1s 3ms/step - loss: 1.4077 - accuracy: 0.4905\n",
            "Epoch 11/20\n",
            "391/391 [==============================] - 1s 3ms/step - loss: 1.3904 - accuracy: 0.4989\n",
            "Epoch 12/20\n",
            "391/391 [==============================] - 1s 3ms/step - loss: 1.3640 - accuracy: 0.5079\n",
            "Epoch 13/20\n",
            "391/391 [==============================] - 1s 3ms/step - loss: 1.3600 - accuracy: 0.5109\n",
            "Epoch 14/20\n",
            "391/391 [==============================] - 1s 3ms/step - loss: 1.3333 - accuracy: 0.5217\n",
            "Epoch 15/20\n",
            "391/391 [==============================] - 1s 3ms/step - loss: 1.3240 - accuracy: 0.5260\n",
            "Epoch 16/20\n",
            "391/391 [==============================] - 1s 3ms/step - loss: 1.3064 - accuracy: 0.5319\n",
            "Epoch 17/20\n",
            "391/391 [==============================] - 1s 3ms/step - loss: 1.2936 - accuracy: 0.5363\n",
            "Epoch 18/20\n",
            "391/391 [==============================] - 1s 3ms/step - loss: 1.2592 - accuracy: 0.5463\n",
            "Epoch 19/20\n",
            "391/391 [==============================] - 1s 3ms/step - loss: 1.2679 - accuracy: 0.5462\n",
            "Epoch 20/20\n",
            "391/391 [==============================] - 1s 3ms/step - loss: 1.2397 - accuracy: 0.5560\n"
          ],
          "name": "stdout"
        },
        {
          "output_type": "execute_result",
          "data": {
            "text/plain": [
              "<tensorflow.python.keras.callbacks.History at 0x7f02743aa650>"
            ]
          },
          "metadata": {
            "tags": []
          },
          "execution_count": 69
        }
      ]
    },
    {
      "cell_type": "code",
      "metadata": {
        "colab": {
          "base_uri": "https://localhost:8080/"
        },
        "id": "BN6dFA3maYqL",
        "outputId": "b3656406-31d9-43b1-ce08-346dc53312a1"
      },
      "source": [
        "results = model.evaluate(x_test,y_test)\r\n",
        "print(f\"loss : {results[0]}\\naccuracy : {results[1]}\")"
      ],
      "execution_count": 70,
      "outputs": [
        {
          "output_type": "stream",
          "text": [
            "313/313 [==============================] - 1s 2ms/step - loss: 1.3940 - accuracy: 0.5046\n",
            "loss : 1.3939999341964722\n",
            "accuracy : 0.5045999884605408\n"
          ],
          "name": "stdout"
        }
      ]
    },
    {
      "cell_type": "code",
      "metadata": {
        "id": "GVebVL1La1Xh"
      },
      "source": [
        "#4 RMSprop\r\n",
        "\r\n",
        "model = None\r\n",
        "model = Sequential()\r\n",
        "model.add(Dense(128,input_shape=(3072,),activation='selu'))\r\n",
        "model.add(Dense(64,activation='softplus'))\r\n",
        "model.add(Dense(32,activation='elu'))\r\n",
        "model.add(Dense(16,activation='relu'))\r\n",
        "model.add(Dense(10,activation='softmax'))"
      ],
      "execution_count": 71,
      "outputs": []
    },
    {
      "cell_type": "code",
      "metadata": {
        "colab": {
          "base_uri": "https://localhost:8080/"
        },
        "id": "M9rkI8naa1CS",
        "outputId": "41ec8c45-4b9b-46e5-fe13-6981c434397c"
      },
      "source": [
        "model.summary()"
      ],
      "execution_count": 72,
      "outputs": [
        {
          "output_type": "stream",
          "text": [
            "Model: \"sequential_6\"\n",
            "_________________________________________________________________\n",
            "Layer (type)                 Output Shape              Param #   \n",
            "=================================================================\n",
            "dense_26 (Dense)             (None, 128)               393344    \n",
            "_________________________________________________________________\n",
            "dense_27 (Dense)             (None, 64)                8256      \n",
            "_________________________________________________________________\n",
            "dense_28 (Dense)             (None, 32)                2080      \n",
            "_________________________________________________________________\n",
            "dense_29 (Dense)             (None, 16)                528       \n",
            "_________________________________________________________________\n",
            "dense_30 (Dense)             (None, 10)                170       \n",
            "=================================================================\n",
            "Total params: 404,378\n",
            "Trainable params: 404,378\n",
            "Non-trainable params: 0\n",
            "_________________________________________________________________\n"
          ],
          "name": "stdout"
        }
      ]
    },
    {
      "cell_type": "code",
      "metadata": {
        "id": "SS4PUCFxcD7j"
      },
      "source": [
        "model.compile(loss='categorical_crossentropy',metrics=\"accuracy\")"
      ],
      "execution_count": 73,
      "outputs": []
    },
    {
      "cell_type": "code",
      "metadata": {
        "colab": {
          "base_uri": "https://localhost:8080/"
        },
        "id": "Itoawk4ba0--",
        "outputId": "9cbf9325-0727-4a16-8674-b743c8aea642"
      },
      "source": [
        "model.fit(x_train,y_train,epochs=10,validation_split=0.3)"
      ],
      "execution_count": 74,
      "outputs": [
        {
          "output_type": "stream",
          "text": [
            "Epoch 1/10\n",
            "1094/1094 [==============================] - 5s 4ms/step - loss: 2.3239 - accuracy: 0.1027 - val_loss: 2.3027 - val_accuracy: 0.0979\n",
            "Epoch 2/10\n",
            "1094/1094 [==============================] - 4s 4ms/step - loss: 2.3043 - accuracy: 0.1006 - val_loss: 2.3026 - val_accuracy: 0.0985\n",
            "Epoch 3/10\n",
            "1094/1094 [==============================] - 4s 4ms/step - loss: 2.3037 - accuracy: 0.1006 - val_loss: 2.3027 - val_accuracy: 0.0983\n",
            "Epoch 4/10\n",
            "1094/1094 [==============================] - 4s 4ms/step - loss: 2.3071 - accuracy: 0.0965 - val_loss: 2.3027 - val_accuracy: 0.0983\n",
            "Epoch 5/10\n",
            "1094/1094 [==============================] - 4s 4ms/step - loss: 2.3027 - accuracy: 0.0999 - val_loss: 2.3027 - val_accuracy: 0.0983\n",
            "Epoch 6/10\n",
            "1094/1094 [==============================] - 4s 4ms/step - loss: 2.3028 - accuracy: 0.0987 - val_loss: 2.3028 - val_accuracy: 0.0984\n",
            "Epoch 7/10\n",
            "1094/1094 [==============================] - 4s 4ms/step - loss: 2.3026 - accuracy: 0.1010 - val_loss: 2.3028 - val_accuracy: 0.0984\n",
            "Epoch 8/10\n",
            "1094/1094 [==============================] - 4s 4ms/step - loss: 2.3027 - accuracy: 0.0971 - val_loss: 2.3027 - val_accuracy: 0.1014\n",
            "Epoch 9/10\n",
            "1094/1094 [==============================] - 4s 4ms/step - loss: 2.3027 - accuracy: 0.0975 - val_loss: 2.3028 - val_accuracy: 0.0984\n",
            "Epoch 10/10\n",
            "1094/1094 [==============================] - 4s 4ms/step - loss: 2.3027 - accuracy: 0.1004 - val_loss: 2.3026 - val_accuracy: 0.0983\n"
          ],
          "name": "stdout"
        },
        {
          "output_type": "execute_result",
          "data": {
            "text/plain": [
              "<tensorflow.python.keras.callbacks.History at 0x7f027425e910>"
            ]
          },
          "metadata": {
            "tags": []
          },
          "execution_count": 74
        }
      ]
    },
    {
      "cell_type": "code",
      "metadata": {
        "colab": {
          "base_uri": "https://localhost:8080/"
        },
        "id": "9d_8s7vzdRL-",
        "outputId": "50d8bff5-ea63-469e-88f9-891a1fa2108a"
      },
      "source": [
        "results = model.evaluate(x_test,y_test)\r\n",
        "print(f\"loss : {results[0]}\\naccuracy : {results[1]}\")"
      ],
      "execution_count": 75,
      "outputs": [
        {
          "output_type": "stream",
          "text": [
            "313/313 [==============================] - 1s 2ms/step - loss: 2.3026 - accuracy: 0.1000\n",
            "loss : 2.3026106357574463\n",
            "accuracy : 0.10000000149011612\n"
          ],
          "name": "stdout"
        }
      ]
    },
    {
      "cell_type": "code",
      "metadata": {
        "id": "2yefcwWedZiq"
      },
      "source": [
        "#5 Adagrad\r\n",
        "\r\n",
        "model = None\r\n",
        "model = Sequential()\r\n",
        "model.add(Dense(128,input_shape=(3072,),activation='selu'))\r\n",
        "model.add(Dense(64,activation='softplus'))\r\n",
        "model.add(Dense(32,activation='elu'))\r\n",
        "model.add(Dense(16,activation='relu'))\r\n",
        "model.add(Dense(10,activation='softmax'))"
      ],
      "execution_count": 76,
      "outputs": []
    },
    {
      "cell_type": "code",
      "metadata": {
        "colab": {
          "base_uri": "https://localhost:8080/"
        },
        "id": "UPw-zlYECerG",
        "outputId": "07596062-d5c9-4d14-fd14-b6fe4060c53b"
      },
      "source": [
        "model.summary()"
      ],
      "execution_count": 77,
      "outputs": [
        {
          "output_type": "stream",
          "text": [
            "Model: \"sequential_7\"\n",
            "_________________________________________________________________\n",
            "Layer (type)                 Output Shape              Param #   \n",
            "=================================================================\n",
            "dense_31 (Dense)             (None, 128)               393344    \n",
            "_________________________________________________________________\n",
            "dense_32 (Dense)             (None, 64)                8256      \n",
            "_________________________________________________________________\n",
            "dense_33 (Dense)             (None, 32)                2080      \n",
            "_________________________________________________________________\n",
            "dense_34 (Dense)             (None, 16)                528       \n",
            "_________________________________________________________________\n",
            "dense_35 (Dense)             (None, 10)                170       \n",
            "=================================================================\n",
            "Total params: 404,378\n",
            "Trainable params: 404,378\n",
            "Non-trainable params: 0\n",
            "_________________________________________________________________\n"
          ],
          "name": "stdout"
        }
      ]
    },
    {
      "cell_type": "code",
      "metadata": {
        "id": "KHgCJQiVCmbY"
      },
      "source": [
        "model.compile(optimizer=\"Adagrad\",loss=\"categorical_crossentropy\",metrics=\"accuracy\")"
      ],
      "execution_count": 78,
      "outputs": []
    },
    {
      "cell_type": "code",
      "metadata": {
        "colab": {
          "base_uri": "https://localhost:8080/"
        },
        "id": "-1NA_6KLDC2I",
        "outputId": "9dd4f4db-c375-4a05-b111-c872881497f5"
      },
      "source": [
        "model.fit(x_train,y_train,epochs=10,validation_split=0.2)"
      ],
      "execution_count": 79,
      "outputs": [
        {
          "output_type": "stream",
          "text": [
            "Epoch 1/10\n",
            "1250/1250 [==============================] - 4s 3ms/step - loss: 2.2464 - accuracy: 0.1778 - val_loss: 2.1491 - val_accuracy: 0.2182\n",
            "Epoch 2/10\n",
            "1250/1250 [==============================] - 3s 3ms/step - loss: 2.1175 - accuracy: 0.2402 - val_loss: 2.0848 - val_accuracy: 0.2643\n",
            "Epoch 3/10\n",
            "1250/1250 [==============================] - 3s 3ms/step - loss: 2.0529 - accuracy: 0.2696 - val_loss: 2.0343 - val_accuracy: 0.2783\n",
            "Epoch 4/10\n",
            "1250/1250 [==============================] - 3s 3ms/step - loss: 2.0052 - accuracy: 0.2816 - val_loss: 1.9870 - val_accuracy: 0.2810\n",
            "Epoch 5/10\n",
            "1250/1250 [==============================] - 3s 3ms/step - loss: 1.9596 - accuracy: 0.2843 - val_loss: 1.9579 - val_accuracy: 0.2829\n",
            "Epoch 6/10\n",
            "1250/1250 [==============================] - 3s 3ms/step - loss: 1.9223 - accuracy: 0.2967 - val_loss: 1.9226 - val_accuracy: 0.2955\n",
            "Epoch 7/10\n",
            "1250/1250 [==============================] - 3s 3ms/step - loss: 1.8978 - accuracy: 0.3048 - val_loss: 1.9050 - val_accuracy: 0.2981\n",
            "Epoch 8/10\n",
            "1250/1250 [==============================] - 3s 3ms/step - loss: 1.8623 - accuracy: 0.3238 - val_loss: 1.8715 - val_accuracy: 0.3282\n",
            "Epoch 9/10\n",
            "1250/1250 [==============================] - 3s 3ms/step - loss: 1.8347 - accuracy: 0.3395 - val_loss: 1.8536 - val_accuracy: 0.3330\n",
            "Epoch 10/10\n",
            "1250/1250 [==============================] - 3s 3ms/step - loss: 1.8182 - accuracy: 0.3465 - val_loss: 1.8298 - val_accuracy: 0.3404\n"
          ],
          "name": "stdout"
        },
        {
          "output_type": "execute_result",
          "data": {
            "text/plain": [
              "<tensorflow.python.keras.callbacks.History at 0x7f025867d450>"
            ]
          },
          "metadata": {
            "tags": []
          },
          "execution_count": 79
        }
      ]
    },
    {
      "cell_type": "code",
      "metadata": {
        "colab": {
          "base_uri": "https://localhost:8080/"
        },
        "id": "c1rE6WAtEwOW",
        "outputId": "57583620-f159-48f9-fbe2-4b62d16ccc85"
      },
      "source": [
        "result = model.evaluate(x_test,y_test)\r\n",
        "print(f\"Loss : {result[0]}\\nAccuracy : {result[1]}\")"
      ],
      "execution_count": 80,
      "outputs": [
        {
          "output_type": "stream",
          "text": [
            "313/313 [==============================] - 1s 2ms/step - loss: 1.8031 - accuracy: 0.3489\n",
            "Loss : 1.8031278848648071\n",
            "Accuracy : 0.3488999903202057\n"
          ],
          "name": "stdout"
        }
      ]
    },
    {
      "cell_type": "code",
      "metadata": {
        "id": "y792xV8RHa_X"
      },
      "source": [
        "#6 Gradient Descent\r\n",
        "\r\n",
        "model = Sequential()\r\n",
        "model.add(Dense(128,activation='sigmoid',input_shape=(3072,)))\r\n",
        "model.add(Dense(64,activation='relu'))\r\n",
        "model.add(Dense(32,activation='relu'))\r\n",
        "model.add(Dense(16,activation='relu'))\r\n",
        "model.add(Dense(10,activation='softmax'))"
      ],
      "execution_count": 81,
      "outputs": []
    },
    {
      "cell_type": "code",
      "metadata": {
        "colab": {
          "base_uri": "https://localhost:8080/"
        },
        "id": "TAyrR_PjIw2m",
        "outputId": "b9b51758-59d7-414f-db8b-7f53104820bd"
      },
      "source": [
        "model.summary()"
      ],
      "execution_count": 82,
      "outputs": [
        {
          "output_type": "stream",
          "text": [
            "Model: \"sequential_8\"\n",
            "_________________________________________________________________\n",
            "Layer (type)                 Output Shape              Param #   \n",
            "=================================================================\n",
            "dense_36 (Dense)             (None, 128)               393344    \n",
            "_________________________________________________________________\n",
            "dense_37 (Dense)             (None, 64)                8256      \n",
            "_________________________________________________________________\n",
            "dense_38 (Dense)             (None, 32)                2080      \n",
            "_________________________________________________________________\n",
            "dense_39 (Dense)             (None, 16)                528       \n",
            "_________________________________________________________________\n",
            "dense_40 (Dense)             (None, 10)                170       \n",
            "=================================================================\n",
            "Total params: 404,378\n",
            "Trainable params: 404,378\n",
            "Non-trainable params: 0\n",
            "_________________________________________________________________\n"
          ],
          "name": "stdout"
        }
      ]
    },
    {
      "cell_type": "code",
      "metadata": {
        "id": "xINEQbqJJJkH"
      },
      "source": [
        "gd = optimizers.SGD(momentum=0.1)"
      ],
      "execution_count": 83,
      "outputs": []
    },
    {
      "cell_type": "code",
      "metadata": {
        "id": "na0PtVSNI248"
      },
      "source": [
        "model.compile(optimizer=gd,loss='categorical_crossentropy',metrics='accuracy')"
      ],
      "execution_count": 84,
      "outputs": []
    },
    {
      "cell_type": "code",
      "metadata": {
        "colab": {
          "base_uri": "https://localhost:8080/"
        },
        "id": "onxYB4GeI21r",
        "outputId": "860682c6-4c9e-412f-8ea2-fa81267cc31d"
      },
      "source": [
        "model.fit(x_train,y_train,epochs=10,validation_split=0.2)"
      ],
      "execution_count": 85,
      "outputs": [
        {
          "output_type": "stream",
          "text": [
            "Epoch 1/10\n",
            "1250/1250 [==============================] - 4s 3ms/step - loss: 2.2693 - accuracy: 0.1451 - val_loss: 2.0761 - val_accuracy: 0.2287\n",
            "Epoch 2/10\n",
            "1250/1250 [==============================] - 3s 3ms/step - loss: 2.0300 - accuracy: 0.2511 - val_loss: 1.9425 - val_accuracy: 0.2827\n",
            "Epoch 3/10\n",
            "1250/1250 [==============================] - 3s 3ms/step - loss: 1.9313 - accuracy: 0.2878 - val_loss: 1.8950 - val_accuracy: 0.3163\n",
            "Epoch 4/10\n",
            "1250/1250 [==============================] - 3s 3ms/step - loss: 1.8673 - accuracy: 0.3273 - val_loss: 1.8378 - val_accuracy: 0.3397\n",
            "Epoch 5/10\n",
            "1250/1250 [==============================] - 3s 3ms/step - loss: 1.8145 - accuracy: 0.3475 - val_loss: 1.7928 - val_accuracy: 0.3629\n",
            "Epoch 6/10\n",
            "1250/1250 [==============================] - 3s 3ms/step - loss: 1.7866 - accuracy: 0.3586 - val_loss: 1.7712 - val_accuracy: 0.3691\n",
            "Epoch 7/10\n",
            "1250/1250 [==============================] - 3s 3ms/step - loss: 1.7503 - accuracy: 0.3682 - val_loss: 1.7376 - val_accuracy: 0.3763\n",
            "Epoch 8/10\n",
            "1250/1250 [==============================] - 3s 3ms/step - loss: 1.7313 - accuracy: 0.3778 - val_loss: 1.7276 - val_accuracy: 0.3767\n",
            "Epoch 9/10\n",
            "1250/1250 [==============================] - 3s 3ms/step - loss: 1.6957 - accuracy: 0.3920 - val_loss: 1.7030 - val_accuracy: 0.3895\n",
            "Epoch 10/10\n",
            "1250/1250 [==============================] - 3s 3ms/step - loss: 1.6668 - accuracy: 0.3981 - val_loss: 1.7080 - val_accuracy: 0.3877\n"
          ],
          "name": "stdout"
        },
        {
          "output_type": "execute_result",
          "data": {
            "text/plain": [
              "<tensorflow.python.keras.callbacks.History at 0x7f02d677bad0>"
            ]
          },
          "metadata": {
            "tags": []
          },
          "execution_count": 85
        }
      ]
    },
    {
      "cell_type": "code",
      "metadata": {
        "colab": {
          "base_uri": "https://localhost:8080/"
        },
        "id": "ufFhPI_KI2yu",
        "outputId": "e8201465-0588-4a83-edbf-fe45503c953f"
      },
      "source": [
        "result = model.evaluate(x_test,y_test)\r\n",
        "print(f\"Loss : {result[0]}\\nAccuracy : {result[1]}\")"
      ],
      "execution_count": 86,
      "outputs": [
        {
          "output_type": "stream",
          "text": [
            "313/313 [==============================] - 1s 2ms/step - loss: 1.6832 - accuracy: 0.3951\n",
            "Loss : 1.6832427978515625\n",
            "Accuracy : 0.3950999975204468\n"
          ],
          "name": "stdout"
        }
      ]
    },
    {
      "cell_type": "code",
      "metadata": {
        "id": "8bts--3oWB2U"
      },
      "source": [
        "#7 Nesterov Accelerated Gradient\r\n",
        "\r\n",
        "model = Sequential()\r\n",
        "model.add(Dense(128,activation='sigmoid',input_shape=(3072,)))\r\n",
        "model.add(Dense(64,activation='relu'))\r\n",
        "model.add(Dense(32,activation='relu'))\r\n",
        "model.add(Dense(16,activation='relu'))\r\n",
        "model.add(Dense(10,activation='softmax'))"
      ],
      "execution_count": 87,
      "outputs": []
    },
    {
      "cell_type": "code",
      "metadata": {
        "id": "Iq72e0-dNGlh"
      },
      "source": [
        "nag = optimizers.SGD(nesterov=True,name='nesterov')"
      ],
      "execution_count": 88,
      "outputs": []
    },
    {
      "cell_type": "code",
      "metadata": {
        "id": "KmtcSkkIYahz"
      },
      "source": [
        "model.compile(optimizer=nag,loss='categorical_crossentropy',metrics=\"accuracy\")"
      ],
      "execution_count": 89,
      "outputs": []
    },
    {
      "cell_type": "code",
      "metadata": {
        "colab": {
          "base_uri": "https://localhost:8080/"
        },
        "id": "6hMs9cxxNryM",
        "outputId": "5546d418-c7b2-4b48-c46c-7f0937c9a597"
      },
      "source": [
        "model.fit(x_train,y_train,epochs=10,validation_split=0.2)"
      ],
      "execution_count": 90,
      "outputs": [
        {
          "output_type": "stream",
          "text": [
            "Epoch 1/10\n",
            "1250/1250 [==============================] - 4s 3ms/step - loss: 2.2030 - accuracy: 0.1745 - val_loss: 1.9719 - val_accuracy: 0.2753\n",
            "Epoch 2/10\n",
            "1250/1250 [==============================] - 3s 2ms/step - loss: 1.9491 - accuracy: 0.2805 - val_loss: 1.9099 - val_accuracy: 0.3019\n",
            "Epoch 3/10\n",
            "1250/1250 [==============================] - 3s 3ms/step - loss: 1.8867 - accuracy: 0.3096 - val_loss: 1.8873 - val_accuracy: 0.3164\n",
            "Epoch 4/10\n",
            "1250/1250 [==============================] - 3s 3ms/step - loss: 1.8420 - accuracy: 0.3345 - val_loss: 1.9044 - val_accuracy: 0.3033\n",
            "Epoch 5/10\n",
            "1250/1250 [==============================] - 3s 3ms/step - loss: 1.8013 - accuracy: 0.3498 - val_loss: 1.7847 - val_accuracy: 0.3623\n",
            "Epoch 6/10\n",
            "1250/1250 [==============================] - 3s 3ms/step - loss: 1.7525 - accuracy: 0.3732 - val_loss: 1.7730 - val_accuracy: 0.3679\n",
            "Epoch 7/10\n",
            "1250/1250 [==============================] - 3s 3ms/step - loss: 1.7169 - accuracy: 0.3854 - val_loss: 1.7190 - val_accuracy: 0.3886\n",
            "Epoch 8/10\n",
            "1250/1250 [==============================] - 3s 3ms/step - loss: 1.6909 - accuracy: 0.3927 - val_loss: 1.6909 - val_accuracy: 0.3965\n",
            "Epoch 9/10\n",
            "1250/1250 [==============================] - 3s 3ms/step - loss: 1.6554 - accuracy: 0.4042 - val_loss: 1.6826 - val_accuracy: 0.3939\n",
            "Epoch 10/10\n",
            "1250/1250 [==============================] - 3s 3ms/step - loss: 1.6399 - accuracy: 0.4067 - val_loss: 1.6540 - val_accuracy: 0.4095\n"
          ],
          "name": "stdout"
        },
        {
          "output_type": "execute_result",
          "data": {
            "text/plain": [
              "<tensorflow.python.keras.callbacks.History at 0x7f02584a1b50>"
            ]
          },
          "metadata": {
            "tags": []
          },
          "execution_count": 90
        }
      ]
    },
    {
      "cell_type": "code",
      "metadata": {
        "colab": {
          "base_uri": "https://localhost:8080/"
        },
        "id": "RGilhh6vN2T-",
        "outputId": "a00ddde4-dcf8-4192-b71d-65a7aade082d"
      },
      "source": [
        "result = model.evaluate(x_test,y_test)\r\n",
        "print(f\"Loss : {result[0]}\\nAccuracy : {result[1]}\")"
      ],
      "execution_count": 91,
      "outputs": [
        {
          "output_type": "stream",
          "text": [
            "313/313 [==============================] - 1s 2ms/step - loss: 1.6249 - accuracy: 0.4187\n",
            "Loss : 1.6249089241027832\n",
            "Accuracy : 0.4187000095844269\n"
          ],
          "name": "stdout"
        }
      ]
    },
    {
      "cell_type": "markdown",
      "metadata": {
        "id": "9IvDub2uVKlX"
      },
      "source": [
        "##  Dropout and Batch Normalisation"
      ]
    },
    {
      "cell_type": "code",
      "metadata": {
        "id": "bAoHAIdiV312"
      },
      "source": [
        "from tensorflow.keras.layers import BatchNormalization,Flatten,Dropout"
      ],
      "execution_count": 92,
      "outputs": []
    },
    {
      "cell_type": "code",
      "metadata": {
        "id": "oMZ6JNuANrtC"
      },
      "source": [
        "#8 mini batch Gradient Descent\r\n",
        "\r\n",
        "model = None\r\n",
        "model = Sequential()\r\n",
        "model.add(Dense(128,activation='relu',input_shape=(3072,)))\r\n",
        "model.add(BatchNormalization())\r\n",
        "model.add(Dropout(0.3))\r\n",
        "model.add(Dense(64,activation='relu'))\r\n",
        "model.add(Dense(32,activation='relu'))\r\n",
        "model.add(Dense(16,activation='relu'))\r\n",
        "model.add(Dense(10,activation='softmax'))"
      ],
      "execution_count": 93,
      "outputs": []
    },
    {
      "cell_type": "code",
      "metadata": {
        "id": "f7zVcU6vSJxm"
      },
      "source": [
        "model.compile(optimizer='adam', loss='categorical_crossentropy', metrics=['accuracy'])"
      ],
      "execution_count": 94,
      "outputs": []
    },
    {
      "cell_type": "code",
      "metadata": {
        "colab": {
          "base_uri": "https://localhost:8080/"
        },
        "id": "-vSusUDtSB14",
        "outputId": "9b23b2dc-f4d7-4923-961c-27b71bbe8fa0"
      },
      "source": [
        "model.fit(x_train, y_train, batch_size=128, epochs=10)"
      ],
      "execution_count": 95,
      "outputs": [
        {
          "output_type": "stream",
          "text": [
            "Epoch 1/10\n",
            "391/391 [==============================] - 2s 3ms/step - loss: 2.0208 - accuracy: 0.2623\n",
            "Epoch 2/10\n",
            "391/391 [==============================] - 1s 3ms/step - loss: 1.7351 - accuracy: 0.3739\n",
            "Epoch 3/10\n",
            "391/391 [==============================] - 1s 3ms/step - loss: 1.6653 - accuracy: 0.4040\n",
            "Epoch 4/10\n",
            "391/391 [==============================] - 1s 3ms/step - loss: 1.6259 - accuracy: 0.4192\n",
            "Epoch 5/10\n",
            "391/391 [==============================] - 1s 3ms/step - loss: 1.5996 - accuracy: 0.4238\n",
            "Epoch 6/10\n",
            "391/391 [==============================] - 1s 3ms/step - loss: 1.5866 - accuracy: 0.4345\n",
            "Epoch 7/10\n",
            "391/391 [==============================] - 1s 3ms/step - loss: 1.5758 - accuracy: 0.4369\n",
            "Epoch 8/10\n",
            "391/391 [==============================] - 1s 3ms/step - loss: 1.5523 - accuracy: 0.4452\n",
            "Epoch 9/10\n",
            "391/391 [==============================] - 1s 3ms/step - loss: 1.5333 - accuracy: 0.4483\n",
            "Epoch 10/10\n",
            "391/391 [==============================] - 1s 3ms/step - loss: 1.5271 - accuracy: 0.4569\n"
          ],
          "name": "stdout"
        },
        {
          "output_type": "execute_result",
          "data": {
            "text/plain": [
              "<tensorflow.python.keras.callbacks.History at 0x7f02582f1a90>"
            ]
          },
          "metadata": {
            "tags": []
          },
          "execution_count": 95
        }
      ]
    },
    {
      "cell_type": "code",
      "metadata": {
        "colab": {
          "base_uri": "https://localhost:8080/"
        },
        "id": "pQ1LsQOYWyrt",
        "outputId": "92eb4ed4-3dbd-496f-e60c-3eaeb4ba8c87"
      },
      "source": [
        "results = model.evaluate(x_test, y_test, verbose=0)\r\n",
        "\r\n",
        "print('Test Loss and Test Accuracy', results)"
      ],
      "execution_count": 96,
      "outputs": [
        {
          "output_type": "stream",
          "text": [
            "Test Loss and Test Accuracy [1.4971609115600586, 0.462799996137619]\n"
          ],
          "name": "stdout"
        }
      ]
    },
    {
      "cell_type": "markdown",
      "metadata": {
        "id": "RSeTXYkuvqSY"
      },
      "source": [
        "## Hyper parameter tuning"
      ]
    },
    {
      "cell_type": "code",
      "metadata": {
        "id": "h3RDAjCDc1b0"
      },
      "source": [
        "def build_model(hp):\r\n",
        "    model = Sequential()\r\n",
        "    #model.add(Flatten(input_shape=(32,32,3)))\r\n",
        "    hp_units = hp.Int('units', min_value=32, max_value=512, step=32)\r\n",
        "    model.add(Dense(units=hp_units, activation='relu'))\r\n",
        "    model.add(Dense(10, activation='softmax'))\r\n",
        "    hp_learning_rate = hp.Choice('learning_rate', values=[1e-2, 1e-3, 1e-4])\r\n",
        "    model.compile(optimizer=optimizers.Adam(learning_rate=hp_learning_rate),\r\n",
        "                  loss='categorical_crossentropy',\r\n",
        "                  metrics=['accuracy'])\r\n",
        "    return model"
      ],
      "execution_count": 97,
      "outputs": []
    },
    {
      "cell_type": "code",
      "metadata": {
        "id": "RqaaM12a1mix"
      },
      "source": [
        "def model_builder(hp):\r\n",
        "  model = keras.Sequential()\r\n",
        "  model.add(keras.layers.Flatten(input_shape=(32,32,3)))\r\n",
        "\r\n",
        "  # Tune the number of units in the first Dense layer\r\n",
        "  # Choose an optimal value between 32-512\r\n",
        "  hp_units = hp.Int('units', min_value=32, max_value=512, step=32)\r\n",
        "  model.add(keras.layers.Dense(units=hp_units, activation='relu'))\r\n",
        "  model.add(keras.layers.Dense(10))\r\n",
        "\r\n",
        "  # Tune the learning rate for the optimizer\r\n",
        "  # Choose an optimal value from 0.01, 0.001, or 0.0001\r\n",
        "  hp_learning_rate = hp.Choice('learning_rate', values=[1e-2, 1e-3, 1e-4])\r\n",
        "\r\n",
        "  model.compile(optimizer=keras.optimizers.Adam(learning_rate=hp_learning_rate),\r\n",
        "                loss=keras.losses.SparseCategoricalCrossentropy(from_logits=True),\r\n",
        "                metrics=['accuracy'])\r\n",
        "\r\n",
        "  return model"
      ],
      "execution_count": 98,
      "outputs": []
    },
    {
      "cell_type": "code",
      "metadata": {
        "colab": {
          "base_uri": "https://localhost:8080/"
        },
        "id": "1pRlhK6qw9Tp",
        "outputId": "4b4986c3-f841-4714-cd7f-279c5a4a80ea"
      },
      "source": [
        "!pip install -q -U keras-tuner"
      ],
      "execution_count": 101,
      "outputs": [
        {
          "output_type": "stream",
          "text": [
            "\u001b[?25l\r\u001b[K     |█████▏                          | 10kB 24.2MB/s eta 0:00:01\r\u001b[K     |██████████▍                     | 20kB 30.1MB/s eta 0:00:01\r\u001b[K     |███████████████▋                | 30kB 21.8MB/s eta 0:00:01\r\u001b[K     |████████████████████▉           | 40kB 20.7MB/s eta 0:00:01\r\u001b[K     |██████████████████████████      | 51kB 22.2MB/s eta 0:00:01\r\u001b[K     |███████████████████████████████▎| 61kB 17.1MB/s eta 0:00:01\r\u001b[K     |████████████████████████████████| 71kB 7.2MB/s \n",
            "\u001b[?25h  Building wheel for keras-tuner (setup.py) ... \u001b[?25l\u001b[?25hdone\n",
            "  Building wheel for terminaltables (setup.py) ... \u001b[?25l\u001b[?25hdone\n"
          ],
          "name": "stdout"
        }
      ]
    },
    {
      "cell_type": "code",
      "metadata": {
        "id": "HFBPDoDQwFpl"
      },
      "source": [
        "\r\n",
        "from kerastuner.tuners import Hyperband,RandomSearch"
      ],
      "execution_count": 102,
      "outputs": []
    },
    {
      "cell_type": "code",
      "metadata": {
        "id": "FNapE-3n_Ivg"
      },
      "source": [
        "tuner = Hyperband(build_model,\r\n",
        "                     objective='val_accuracy',\r\n",
        "                     max_epochs=10,\r\n",
        "                     factor=3,\r\n",
        "                     directory='my_dir',\r\n",
        "                     project_name='cnn_cifar_10')"
      ],
      "execution_count": 103,
      "outputs": []
    },
    {
      "cell_type": "code",
      "metadata": {
        "id": "un76nw_s_06c"
      },
      "source": [
        "from tensorflow.keras.callbacks import EarlyStopping"
      ],
      "execution_count": 104,
      "outputs": []
    },
    {
      "cell_type": "code",
      "metadata": {
        "id": "gKP9vN6lxYU-"
      },
      "source": [
        "stop_early = EarlyStopping(monitor='val_loss', patience=5)"
      ],
      "execution_count": 105,
      "outputs": []
    },
    {
      "cell_type": "code",
      "metadata": {
        "colab": {
          "base_uri": "https://localhost:8080/"
        },
        "id": "6wx9i2YiAH0A",
        "outputId": "93ec0d92-bd4f-405e-c3d0-e0458f0522ca"
      },
      "source": [
        "tuner.search(x_train, y_train, epochs=10, validation_split=0.2, callbacks=[stop_early])\r\n",
        "\r\n",
        "# Get the optimal hyperparameters\r\n",
        "best_hps=tuner.get_best_hyperparameters(num_trials=1)[0]\r\n",
        "\r\n",
        "print(f\"\"\"\r\n",
        "The hyperparameter search is complete. The optimal number of units in the first densely-connected\r\n",
        "layer is {best_hps.get('units')} and the optimal learning rate for the optimizer\r\n",
        "is {best_hps.get('learning_rate')}.\r\n",
        "\"\"\")"
      ],
      "execution_count": 106,
      "outputs": [
        {
          "output_type": "stream",
          "text": [
            "Trial 30 Complete [00h 00m 32s]\n",
            "val_accuracy: 0.4771000146865845\n",
            "\n",
            "Best val_accuracy So Far: 0.4805000126361847\n",
            "Total elapsed time: 00h 06m 46s\n",
            "INFO:tensorflow:Oracle triggered exit\n",
            "\n",
            "The hyperparameter search is complete. The optimal number of units in the first densely-connected\n",
            "layer is 352 and the optimal learning rate for the optimizer\n",
            "is 0.0001.\n",
            "\n"
          ],
          "name": "stdout"
        }
      ]
    },
    {
      "cell_type": "code",
      "metadata": {
        "colab": {
          "base_uri": "https://localhost:8080/"
        },
        "id": "N2jiXeiJywZy",
        "outputId": "3a87fbf3-24f5-4fef-e87c-e08e3d6630d6"
      },
      "source": [
        "# Build the model with the optimal hyperparameters and train it on the data for 50 epochs\r\n",
        "model = tuner.hypermodel.build(best_hps)\r\n",
        "history = model.fit(x_train, y_train, epochs=10, validation_split=0.2)\r\n",
        "\r\n",
        "val_acc_per_epoch = history.history['val_accuracy']\r\n",
        "best_epoch = val_acc_per_epoch.index(max(val_acc_per_epoch)) + 1\r\n",
        "print('Best epoch: %d' % (best_epoch,))"
      ],
      "execution_count": 107,
      "outputs": [
        {
          "output_type": "stream",
          "text": [
            "Epoch 1/10\n",
            "1250/1250 [==============================] - 4s 3ms/step - loss: 1.9840 - accuracy: 0.2928 - val_loss: 1.7923 - val_accuracy: 0.3618\n",
            "Epoch 2/10\n",
            "1250/1250 [==============================] - 3s 3ms/step - loss: 1.7623 - accuracy: 0.3783 - val_loss: 1.7082 - val_accuracy: 0.4023\n",
            "Epoch 3/10\n",
            "1250/1250 [==============================] - 3s 3ms/step - loss: 1.6539 - accuracy: 0.4207 - val_loss: 1.6533 - val_accuracy: 0.4256\n",
            "Epoch 4/10\n",
            "1250/1250 [==============================] - 3s 2ms/step - loss: 1.6006 - accuracy: 0.4426 - val_loss: 1.6341 - val_accuracy: 0.4273\n",
            "Epoch 5/10\n",
            "1250/1250 [==============================] - 3s 3ms/step - loss: 1.5472 - accuracy: 0.4585 - val_loss: 1.5933 - val_accuracy: 0.4484\n",
            "Epoch 6/10\n",
            "1250/1250 [==============================] - 3s 2ms/step - loss: 1.5260 - accuracy: 0.4686 - val_loss: 1.5451 - val_accuracy: 0.4627\n",
            "Epoch 7/10\n",
            "1250/1250 [==============================] - 3s 3ms/step - loss: 1.4880 - accuracy: 0.4790 - val_loss: 1.5440 - val_accuracy: 0.4603\n",
            "Epoch 8/10\n",
            "1250/1250 [==============================] - 3s 3ms/step - loss: 1.4543 - accuracy: 0.4906 - val_loss: 1.5462 - val_accuracy: 0.4603\n",
            "Epoch 9/10\n",
            "1250/1250 [==============================] - 3s 3ms/step - loss: 1.4381 - accuracy: 0.4986 - val_loss: 1.5325 - val_accuracy: 0.4603\n",
            "Epoch 10/10\n",
            "1250/1250 [==============================] - 3s 3ms/step - loss: 1.4140 - accuracy: 0.5066 - val_loss: 1.5216 - val_accuracy: 0.4702\n",
            "Best epoch: 10\n"
          ],
          "name": "stdout"
        }
      ]
    },
    {
      "cell_type": "code",
      "metadata": {
        "colab": {
          "base_uri": "https://localhost:8080/"
        },
        "id": "ydCVF5RFClVR",
        "outputId": "12b03558-4876-4870-8fcf-fb4bd59a7abb"
      },
      "source": [
        "hypermodel = tuner.hypermodel.build(best_hps)\r\n",
        "\r\n",
        "# Retrain the model\r\n",
        "hypermodel.fit(x_train, y_train, epochs=best_epoch)"
      ],
      "execution_count": 108,
      "outputs": [
        {
          "output_type": "stream",
          "text": [
            "Epoch 1/10\n",
            "1563/1563 [==============================] - 4s 2ms/step - loss: 1.9720 - accuracy: 0.2993\n",
            "Epoch 2/10\n",
            "1563/1563 [==============================] - 4s 2ms/step - loss: 1.7149 - accuracy: 0.4008\n",
            "Epoch 3/10\n",
            "1563/1563 [==============================] - 4s 2ms/step - loss: 1.6306 - accuracy: 0.4271\n",
            "Epoch 4/10\n",
            "1563/1563 [==============================] - 4s 2ms/step - loss: 1.5653 - accuracy: 0.4529\n",
            "Epoch 5/10\n",
            "1563/1563 [==============================] - 4s 2ms/step - loss: 1.5294 - accuracy: 0.4626\n",
            "Epoch 6/10\n",
            "1563/1563 [==============================] - 4s 2ms/step - loss: 1.4895 - accuracy: 0.4813\n",
            "Epoch 7/10\n",
            "1563/1563 [==============================] - 4s 2ms/step - loss: 1.4641 - accuracy: 0.4876\n",
            "Epoch 8/10\n",
            "1563/1563 [==============================] - 4s 2ms/step - loss: 1.4284 - accuracy: 0.5019\n",
            "Epoch 9/10\n",
            "1563/1563 [==============================] - 4s 2ms/step - loss: 1.4021 - accuracy: 0.5113\n",
            "Epoch 10/10\n",
            "1563/1563 [==============================] - 4s 2ms/step - loss: 1.3754 - accuracy: 0.5207\n"
          ],
          "name": "stdout"
        },
        {
          "output_type": "execute_result",
          "data": {
            "text/plain": [
              "<tensorflow.python.keras.callbacks.History at 0x7f025856fad0>"
            ]
          },
          "metadata": {
            "tags": []
          },
          "execution_count": 108
        }
      ]
    },
    {
      "cell_type": "code",
      "metadata": {
        "colab": {
          "base_uri": "https://localhost:8080/"
        },
        "id": "zgFGmhJLC3UL",
        "outputId": "1572076d-1cf0-4f91-9d3a-4702ffd2eb77"
      },
      "source": [
        "eval_result = hypermodel.evaluate(x_test, y_test)\r\n",
        "print(\"[test loss, test accuracy]:\", eval_result)"
      ],
      "execution_count": 109,
      "outputs": [
        {
          "output_type": "stream",
          "text": [
            "313/313 [==============================] - 1s 2ms/step - loss: 1.4638 - accuracy: 0.4803\n",
            "[test loss, test accuracy]: [1.4638243913650513, 0.48030000925064087]\n"
          ],
          "name": "stdout"
        }
      ]
    },
    {
      "cell_type": "code",
      "metadata": {
        "id": "Hjz14IgJDNuw"
      },
      "source": [
        ""
      ],
      "execution_count": 109,
      "outputs": []
    }
  ]
}